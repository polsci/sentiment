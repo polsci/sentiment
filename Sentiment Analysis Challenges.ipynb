{
 "cells": [
  {
   "cell_type": "markdown",
   "metadata": {},
   "source": [
    "# Challenges of Sentiment Analysis\n",
    "\n",
    "TODO: remove cell output for release.\n",
    "\n",
    "Note to DIGI405 students: Make sure you use the Python 3.12 Kernel to run this notebook. \n",
    "\n",
    "This lab will investigate lexicon-based sentiment analysis with VADER (‘Valence Aware Dictionary for sEntiment Reasoning’). VADER is open source software, so you can inspect the code and modify it if you wish. In this week’s lab we will mainly refer to the lexicon.\n",
    "\n",
    "Although VADER is more than 10 years old, it is still commonly used. You can learn lots about how language expresses sentiment by using VADER, understanding how it works, when it works and when it doesn't. \n",
    "\n",
    "The following cell imports required libraries."
   ]
  },
  {
   "cell_type": "code",
   "execution_count": 73,
   "metadata": {},
   "outputs": [],
   "source": [
    "import pandas as pd\n",
    "from sklearn.pipeline import Pipeline\n",
    "from sklearn.linear_model import LogisticRegression\n",
    "from IPython.display import display, HTML\n",
    "from vaderSentiment.vaderSentiment import SentimentIntensityAnalyzer\n",
    "from textplumber.vader import SentimentIntensityInterpreter"
   ]
  },
  {
   "cell_type": "markdown",
   "metadata": {},
   "source": [
    "This is the basic setup required to start scoring texts with VADER."
   ]
  },
  {
   "cell_type": "code",
   "execution_count": 74,
   "metadata": {},
   "outputs": [],
   "source": [
    "\n",
    "analyzer = SentimentIntensityAnalyzer()"
   ]
  },
  {
   "cell_type": "markdown",
   "metadata": {},
   "source": [
    "## 1. Learn about VADER scores\n",
    "\n",
    "In the cell below is a short phrase to show you the output of VADER. Get VADER's scores for the provided text and make sure you understand what each number tells us."
   ]
  },
  {
   "cell_type": "code",
   "execution_count": 75,
   "metadata": {},
   "outputs": [
    {
     "name": "stdout",
     "output_type": "stream",
     "text": [
      "{'neg': 0.508, 'neu': 0.492, 'pos': 0.0, 'compound': -0.4767}\n"
     ]
    }
   ],
   "source": [
    "example = '''\n",
    "This movie is terrible.\n",
    "'''\n",
    "vs = analyzer.polarity_scores(example)\n",
    "print(str(vs))"
   ]
  },
  {
   "cell_type": "markdown",
   "metadata": {},
   "source": [
    "Read the \"About the Scoring\" section of the Vader Github README, which explains the scores that are returned by Vader:  \n",
    "https://github.com/cjhutto/vaderSentiment#about-the-scoring\n",
    "\n",
    "### 1.1 Questions\n",
    "\n",
    "1. What do the 'neu', 'pos', and 'neg' scores represent?  \n",
    "2. What range of values of the Compound Score should be associated with a \"neutral\" classification?  \n"
   ]
  },
  {
   "cell_type": "markdown",
   "metadata": {},
   "source": [
    "## 2. Experiment scoring some texts to try to understand Vader's lexicon and booster/negation rules\n",
    "\n",
    " "
   ]
  },
  {
   "cell_type": "markdown",
   "metadata": {},
   "source": [
    "Here's another example - you can copy and paste this code into new code cells to test out different phrases."
   ]
  },
  {
   "cell_type": "code",
   "execution_count": 76,
   "metadata": {},
   "outputs": [
    {
     "name": "stdout",
     "output_type": "stream",
     "text": [
      "{'neg': 0.0, 'neu': 0.512, 'pos': 0.488, 'compound': 0.5868}\n"
     ]
    }
   ],
   "source": [
    "example = '''\n",
    "The movie was almost great.\n",
    "'''\n",
    "vs = analyzer.polarity_scores(example)\n",
    "print(str(vs))"
   ]
  },
  {
   "cell_type": "markdown",
   "metadata": {},
   "source": [
    "### 2.1 Activities\n",
    "\n",
    "Try different text and make sure you understand the scores VADER returns. Copy the code above into new cells below for each example you come up with.\n",
    "\n",
    "Create examples for the following conditions:   \n",
    "\n",
    "1. A sentence that is obviously positive e.g. \"The movie is great\".\n",
    "2. A sentence that is obviously negative e.g. \"The movie is terrible\".\n",
    "3. A sentence that uses a \"booster\" e.g. \"The movie is really great\".\n",
    "4. A sentence that hedges e.g. \"The movie is almost great\".\n",
    "5. A sentence that uses negation e.g. \"The movie is not great\". "
   ]
  },
  {
   "cell_type": "markdown",
   "metadata": {},
   "source": [
    "### 2.2 Aide your understanding of VADER\n",
    "\n",
    "Look at the lexicon and the booster/negation words on the VADER repository to get more insight into the scores.\n",
    "\n",
    "* The VADER module code is here: https://github.com/nltk/nltk/blob/develop/nltk/sentiment/vader.py  \n",
    "* Negations and booster words are on lines 48-181.  \n",
    "* The Vader lexicon is available here: https://github.com/cjhutto/vaderSentiment/blob/master/vaderSentiment/vader_lexicon.txt  Note: you can search the lexicon in your browser or you can download it and inspect it in a text editor.  \n",
    "* Make sure you are clear what the values in the VADER lexicon actually mean.  \n",
    "\n",
    "Here are some examples for your reference: \n",
    "\n",
    "    hope \t1.9 0.53852 [3, 2, 2, 1, 2, 2, 1, 2, 2, 2]\n",
    "    hopeless -2.0 1.78885 [-3, -3, -3, -3, 3, -1, -3, -3, -2, -2]\n",
    "\n",
    "* The VADER paper itself is helpful also: https://ojs.aaai.org/index.php/ICWSM/article/view/14550"
   ]
  },
  {
   "cell_type": "markdown",
   "metadata": {},
   "source": [
    "## 3. A tool to aide interpreting VADER scores\n",
    "\n",
    "Textplumber includes a [tool to explain VADER scores](https://geoffford.nz/textplumber/vader.html#sentimentintensityinterpreter). Run the following code to run the explain tool over the example texts below. You can change the examples if you like.  "
   ]
  },
  {
   "cell_type": "code",
   "execution_count": 77,
   "metadata": {},
   "outputs": [],
   "source": [
    "interpreter = SentimentIntensityInterpreter()"
   ]
  },
  {
   "cell_type": "code",
   "execution_count": 78,
   "metadata": {},
   "outputs": [
    {
     "name": "stdout",
     "output_type": "stream",
     "text": [
      "Hint: Hover your mouse over specific words or the bar chart to see more information.  \n"
     ]
    },
    {
     "data": {
      "text/html": [
       "\n",
       "    <style>\n",
       "    .sent-word {\n",
       "        color: #000;\n",
       "        padding: 2px;\n",
       "        border-radius: 3px;\n",
       "        font-size: 14px;\n",
       "        margin-left: 0px;\n",
       "        margin-bottom: 5px;\n",
       "        white-space: nowrap;\n",
       "        overflow-wrap: normal;\n",
       "        word-break: normal;\n",
       "        border: 1px solid #ccc;\n",
       "        display: inline-block;\n",
       "    }\n",
       "    .sent-bars {\n",
       "        margin-top:20px; margin-bottom:40px; background:#fff; border-radius:5px; width:100px; height:100px; display:inline-block; position:relative; vertical-align:top;border:1px solid #ccc;\n",
       "    }\n",
       "    .sent-bar {\n",
       "        position:absolute; bottom:15px; width:24px; border:1px solid #bbb; border-radius:4px 4px 0 0; text-align:center; color:#000; font-size:15px;\n",
       "    }\n",
       "    .sent-bar-line {\n",
       "        position:absolute; bottom:15px; left:5px; width:90px;margin:0 auto; height:1px; background:#999;\n",
       "    }\n",
       "    .sent-bar-pos { background:rgb(0,200,0);}\n",
       "    .sent-bar-neu { background:rgb(255,255,255);}\n",
       "    .sent-bar-neg { background:rgb(200,0,0);}\n",
       "    .sent-bar span:first-child {\n",
       "        position:absolute; bottom:-14px; left:0; width:100%; text-align:center; font-size:12px;\n",
       "    }\n",
       "    .sent-bars-title, .sent-compound-title {\n",
       "        position:absolute; width:100%; font-weight:bold; top:-15px; left:0; font-size:12px;\n",
       "    }\n",
       "    .sent-compound {\n",
       "        display:inline-block; vertical-align:top;border:1px solid #ccc;border-radius:5px;margin-top:20px; position:relative;\n",
       "        width:100px; height:100px; font-size:14px; font-weight:bold; margin-bottom:40px;\n",
       "    }\n",
       "    .sent-compound span {\n",
       "    color:#000; \n",
       "    display:inline-block;\n",
       "    line-height:100px;\n",
       "    width:100px;\n",
       "    text-align:center; \n",
       "    }\n",
       "\n",
       "    .text-wrapper {\n",
       "        font-size: 14px;width:100%;max-width:800px;overflow-wrap:anywhere;line-height:1.5;\n",
       "    }\n",
       "    span.ttppee {font-style:italic;}\n",
       "\n",
       "    span.icon {font-size:12px;}\n",
       "    </style>\n",
       "    <div class='text-wrapper'><span class='sent-word' style='background-color:rgb(255,255,255);' title='score: 0 '>Marmite</span> <span class='sent-word' style='background-color:rgb(255,255,255);' title='score: 0 '>is</span> <span class='sent-word' style='background-color:rgb(133,255,133);' title='score: 1.9 '>good</span>.</div>"
      ],
      "text/plain": [
       "<IPython.core.display.HTML object>"
      ]
     },
     "metadata": {},
     "output_type": "display_data"
    },
    {
     "data": {
      "text/html": [
       "\n",
       "    <div>\n",
       "        \n",
       "    <div class='sent-compound' style='background:rgb(142,255,142);'>\n",
       "        <div class='sent-compound-title'>Compound</div>\n",
       "        <span>0.440</span>\n",
       "    </div>\n",
       "     \n",
       "        \n",
       "    <div class='sent-bars'>\n",
       "        <div class='sent-bars-title'>Proportions</div>\n",
       "        <div class='sent-bar sent-bar-pos' style='height:47px; left:8px;' title='neg proportion: 0.592'><span>pos</span></div>\n",
       "        <div class='sent-bar sent-bar-neu' style='height:32px; left:38px;' title='neg proportion: 0.408'><span>neu</span></div>\n",
       "        <div class='sent-bar sent-bar-neg' style='height:0px; left:68px;' title='neg proportion: 0.000'><span>neg</span></div>\n",
       "        <div class='sent-bar-line'></div>\n",
       "    </div>\n",
       "    \n",
       "    </div>\n",
       "    "
      ],
      "text/plain": [
       "<IPython.core.display.HTML object>"
      ]
     },
     "metadata": {},
     "output_type": "display_data"
    },
    {
     "data": {
      "text/html": [
       "\n",
       "    <style>\n",
       "    .sent-word {\n",
       "        color: #000;\n",
       "        padding: 2px;\n",
       "        border-radius: 3px;\n",
       "        font-size: 14px;\n",
       "        margin-left: 0px;\n",
       "        margin-bottom: 5px;\n",
       "        white-space: nowrap;\n",
       "        overflow-wrap: normal;\n",
       "        word-break: normal;\n",
       "        border: 1px solid #ccc;\n",
       "        display: inline-block;\n",
       "    }\n",
       "    .sent-bars {\n",
       "        margin-top:20px; margin-bottom:40px; background:#fff; border-radius:5px; width:100px; height:100px; display:inline-block; position:relative; vertical-align:top;border:1px solid #ccc;\n",
       "    }\n",
       "    .sent-bar {\n",
       "        position:absolute; bottom:15px; width:24px; border:1px solid #bbb; border-radius:4px 4px 0 0; text-align:center; color:#000; font-size:15px;\n",
       "    }\n",
       "    .sent-bar-line {\n",
       "        position:absolute; bottom:15px; left:5px; width:90px;margin:0 auto; height:1px; background:#999;\n",
       "    }\n",
       "    .sent-bar-pos { background:rgb(0,200,0);}\n",
       "    .sent-bar-neu { background:rgb(255,255,255);}\n",
       "    .sent-bar-neg { background:rgb(200,0,0);}\n",
       "    .sent-bar span:first-child {\n",
       "        position:absolute; bottom:-14px; left:0; width:100%; text-align:center; font-size:12px;\n",
       "    }\n",
       "    .sent-bars-title, .sent-compound-title {\n",
       "        position:absolute; width:100%; font-weight:bold; top:-15px; left:0; font-size:12px;\n",
       "    }\n",
       "    .sent-compound {\n",
       "        display:inline-block; vertical-align:top;border:1px solid #ccc;border-radius:5px;margin-top:20px; position:relative;\n",
       "        width:100px; height:100px; font-size:14px; font-weight:bold; margin-bottom:40px;\n",
       "    }\n",
       "    .sent-compound span {\n",
       "    color:#000; \n",
       "    display:inline-block;\n",
       "    line-height:100px;\n",
       "    width:100px;\n",
       "    text-align:center; \n",
       "    }\n",
       "\n",
       "    .text-wrapper {\n",
       "        font-size: 14px;width:100%;max-width:800px;overflow-wrap:anywhere;line-height:1.5;\n",
       "    }\n",
       "    span.ttppee {font-style:italic;}\n",
       "\n",
       "    span.icon {font-size:12px;}\n",
       "    </style>\n",
       "    <div class='text-wrapper'><span class='sent-word' style='background-color:rgb(255,255,255);' title='score: 0 '>Marmite</span> <span class='sent-word' style='background-color:rgb(255,255,255);' title='score: 0 '>is</span> occasionally <span class='sent-word' style='background-color:rgb(152,255,152);' title='score: 1.607 dampened'>⬇️good</span>.</div>"
      ],
      "text/plain": [
       "<IPython.core.display.HTML object>"
      ]
     },
     "metadata": {},
     "output_type": "display_data"
    },
    {
     "data": {
      "text/html": [
       "\n",
       "    <div>\n",
       "        \n",
       "    <div class='sent-compound' style='background:rgb(157,255,157);'>\n",
       "        <div class='sent-compound-title'>Compound</div>\n",
       "        <span>0.383</span>\n",
       "    </div>\n",
       "     \n",
       "        \n",
       "    <div class='sent-bars'>\n",
       "        <div class='sent-bars-title'>Proportions</div>\n",
       "        <div class='sent-bar sent-bar-pos' style='height:37px; left:8px;' title='neg proportion: 0.465'><span>pos</span></div>\n",
       "        <div class='sent-bar sent-bar-neu' style='height:42px; left:38px;' title='neg proportion: 0.535'><span>neu</span></div>\n",
       "        <div class='sent-bar sent-bar-neg' style='height:0px; left:68px;' title='neg proportion: 0.000'><span>neg</span></div>\n",
       "        <div class='sent-bar-line'></div>\n",
       "    </div>\n",
       "    \n",
       "    </div>\n",
       "    "
      ],
      "text/plain": [
       "<IPython.core.display.HTML object>"
      ]
     },
     "metadata": {},
     "output_type": "display_data"
    },
    {
     "data": {
      "text/html": [
       "\n",
       "    <style>\n",
       "    .sent-word {\n",
       "        color: #000;\n",
       "        padding: 2px;\n",
       "        border-radius: 3px;\n",
       "        font-size: 14px;\n",
       "        margin-left: 0px;\n",
       "        margin-bottom: 5px;\n",
       "        white-space: nowrap;\n",
       "        overflow-wrap: normal;\n",
       "        word-break: normal;\n",
       "        border: 1px solid #ccc;\n",
       "        display: inline-block;\n",
       "    }\n",
       "    .sent-bars {\n",
       "        margin-top:20px; margin-bottom:40px; background:#fff; border-radius:5px; width:100px; height:100px; display:inline-block; position:relative; vertical-align:top;border:1px solid #ccc;\n",
       "    }\n",
       "    .sent-bar {\n",
       "        position:absolute; bottom:15px; width:24px; border:1px solid #bbb; border-radius:4px 4px 0 0; text-align:center; color:#000; font-size:15px;\n",
       "    }\n",
       "    .sent-bar-line {\n",
       "        position:absolute; bottom:15px; left:5px; width:90px;margin:0 auto; height:1px; background:#999;\n",
       "    }\n",
       "    .sent-bar-pos { background:rgb(0,200,0);}\n",
       "    .sent-bar-neu { background:rgb(255,255,255);}\n",
       "    .sent-bar-neg { background:rgb(200,0,0);}\n",
       "    .sent-bar span:first-child {\n",
       "        position:absolute; bottom:-14px; left:0; width:100%; text-align:center; font-size:12px;\n",
       "    }\n",
       "    .sent-bars-title, .sent-compound-title {\n",
       "        position:absolute; width:100%; font-weight:bold; top:-15px; left:0; font-size:12px;\n",
       "    }\n",
       "    .sent-compound {\n",
       "        display:inline-block; vertical-align:top;border:1px solid #ccc;border-radius:5px;margin-top:20px; position:relative;\n",
       "        width:100px; height:100px; font-size:14px; font-weight:bold; margin-bottom:40px;\n",
       "    }\n",
       "    .sent-compound span {\n",
       "    color:#000; \n",
       "    display:inline-block;\n",
       "    line-height:100px;\n",
       "    width:100px;\n",
       "    text-align:center; \n",
       "    }\n",
       "\n",
       "    .text-wrapper {\n",
       "        font-size: 14px;width:100%;max-width:800px;overflow-wrap:anywhere;line-height:1.5;\n",
       "    }\n",
       "    span.ttppee {font-style:italic;}\n",
       "\n",
       "    span.icon {font-size:12px;}\n",
       "    </style>\n",
       "    <div class='text-wrapper'><span class='sent-word' style='background-color:rgb(255,255,255);' title='score: 0 '>Marmite</span> <span class='sent-word' style='background-color:rgb(255,255,255);' title='score: 0 '>is</span> <span class='sent-word' style='background-color:rgb(255,255,255);' title='score: 0 '>not</span> <span class='sent-word' style='background-color:rgb(255,165,165);' title='score: -1.406 negated'>⛔good</span>.</div>"
      ],
      "text/plain": [
       "<IPython.core.display.HTML object>"
      ]
     },
     "metadata": {},
     "output_type": "display_data"
    },
    {
     "data": {
      "text/html": [
       "\n",
       "    <div>\n",
       "        \n",
       "    <div class='sent-compound' style='background:rgb(255,167,167);'>\n",
       "        <div class='sent-compound-title'>Compound</div>\n",
       "        <span>-0.341</span>\n",
       "    </div>\n",
       "     \n",
       "        \n",
       "    <div class='sent-bars'>\n",
       "        <div class='sent-bars-title'>Proportions</div>\n",
       "        <div class='sent-bar sent-bar-pos' style='height:0px; left:8px;' title='neg proportion: 0.000'><span>pos</span></div>\n",
       "        <div class='sent-bar sent-bar-neu' style='height:44px; left:38px;' title='neg proportion: 0.555'><span>neu</span></div>\n",
       "        <div class='sent-bar sent-bar-neg' style='height:35px; left:68px;' title='neg proportion: 0.445'><span>neg</span></div>\n",
       "        <div class='sent-bar-line'></div>\n",
       "    </div>\n",
       "    \n",
       "    </div>\n",
       "    "
      ],
      "text/plain": [
       "<IPython.core.display.HTML object>"
      ]
     },
     "metadata": {},
     "output_type": "display_data"
    },
    {
     "data": {
      "text/html": [
       "\n",
       "    <style>\n",
       "    .sent-word {\n",
       "        color: #000;\n",
       "        padding: 2px;\n",
       "        border-radius: 3px;\n",
       "        font-size: 14px;\n",
       "        margin-left: 0px;\n",
       "        margin-bottom: 5px;\n",
       "        white-space: nowrap;\n",
       "        overflow-wrap: normal;\n",
       "        word-break: normal;\n",
       "        border: 1px solid #ccc;\n",
       "        display: inline-block;\n",
       "    }\n",
       "    .sent-bars {\n",
       "        margin-top:20px; margin-bottom:40px; background:#fff; border-radius:5px; width:100px; height:100px; display:inline-block; position:relative; vertical-align:top;border:1px solid #ccc;\n",
       "    }\n",
       "    .sent-bar {\n",
       "        position:absolute; bottom:15px; width:24px; border:1px solid #bbb; border-radius:4px 4px 0 0; text-align:center; color:#000; font-size:15px;\n",
       "    }\n",
       "    .sent-bar-line {\n",
       "        position:absolute; bottom:15px; left:5px; width:90px;margin:0 auto; height:1px; background:#999;\n",
       "    }\n",
       "    .sent-bar-pos { background:rgb(0,200,0);}\n",
       "    .sent-bar-neu { background:rgb(255,255,255);}\n",
       "    .sent-bar-neg { background:rgb(200,0,0);}\n",
       "    .sent-bar span:first-child {\n",
       "        position:absolute; bottom:-14px; left:0; width:100%; text-align:center; font-size:12px;\n",
       "    }\n",
       "    .sent-bars-title, .sent-compound-title {\n",
       "        position:absolute; width:100%; font-weight:bold; top:-15px; left:0; font-size:12px;\n",
       "    }\n",
       "    .sent-compound {\n",
       "        display:inline-block; vertical-align:top;border:1px solid #ccc;border-radius:5px;margin-top:20px; position:relative;\n",
       "        width:100px; height:100px; font-size:14px; font-weight:bold; margin-bottom:40px;\n",
       "    }\n",
       "    .sent-compound span {\n",
       "    color:#000; \n",
       "    display:inline-block;\n",
       "    line-height:100px;\n",
       "    width:100px;\n",
       "    text-align:center; \n",
       "    }\n",
       "\n",
       "    .text-wrapper {\n",
       "        font-size: 14px;width:100%;max-width:800px;overflow-wrap:anywhere;line-height:1.5;\n",
       "    }\n",
       "    span.ttppee {font-style:italic;}\n",
       "\n",
       "    span.icon {font-size:12px;}\n",
       "    </style>\n",
       "    <div class='text-wrapper'><span class='sent-word' style='background-color:rgb(255,255,255);' title='score: 0 '>Marmite</span> <span class='sent-word' style='background-color:rgb(255,255,255);' title='score: 0 '>is</span> <span class='sent-word' style='background-color:rgb(255,255,255);' title='score: 0 '>a</span> <span class='sent-word' style='background-color:rgb(255,255,255);' title='score: 0 '>savoury</span> <span class='sent-word' style='background-color:rgb(255,255,255);' title='score: 0 '>food</span> <span class='sent-word' style='background-color:rgb(255,255,255);' title='score: 0 '>spread</span> <span class='sent-word' style='background-color:rgb(255,255,255);' title='score: 0 '>based</span> <span class='sent-word' style='background-color:rgb(255,255,255);' title='score: 0 '>on</span> <span class='sent-word' style='background-color:rgb(255,255,255);' title='score: 0 '>yeast</span> <span class='sent-word' style='background-color:rgb(255,255,255);' title='score: 0 '>extract</span>. <span class='sent-word' style='background-color:rgb(255,255,255);' title='score: 0 '>It</span> <span class='sent-word' style='background-color:rgb(255,255,255);' title='score: 0 '>is</span> <span class='sent-word' style='background-color:rgb(255,255,255);' title='score: 0 '>often</span> <span class='sent-word' style='background-color:rgb(255,255,255);' title='score: 0 '>used</span> <span class='sent-word' style='background-color:rgb(255,255,255);' title='score: 0 '>as</span> <span class='sent-word' style='background-color:rgb(255,255,255);' title='score: 0 '>a</span> <span class='sent-word' style='background-color:rgb(255,255,255);' title='score: 0 '>spread</span> <span class='sent-word' style='background-color:rgb(255,255,255);' title='score: 0 '>on</span> <span class='sent-word' style='background-color:rgb(255,255,255);' title='score: 0 '>toast</span>. <span class='sent-word' style='background-color:rgb(255,255,255);' title='score: 0 '>Marmite</span> <span class='sent-word' style='background-color:rgb(255,255,255);' title='score: 0 '>is</span> <span class='sent-word' style='background-color:rgb(255,204,204);' title='score: -0.8 '>controversial</span>: <span class='sent-word' style='background-color:rgb(255,255,255);' title='score: 0 '>it</span> <span class='sent-word' style='background-color:rgb(255,255,255);' title='score: 0 '>is</span> <span class='sent-word' style='background-color:rgb(70,255,70);' title='score: 2.9 '>loved</span> <span class='sent-word' style='background-color:rgb(255,255,255);' title='score: 0 '>by</span> <span class='sent-word' style='background-color:rgb(255,255,255);' title='score: 0 '>some</span> <span class='sent-word' style='background-color:rgb(255,255,255);' title='score: 0 '>and</span> <span class='sent-word' style='background-color:rgb(255,50,50);' title='score: -3.2 '>hated</span> <span class='sent-word' style='background-color:rgb(255,255,255);' title='score: 0 '>by</span> <span class='sent-word' style='background-color:rgb(255,255,255);' title='score: 0 '>others</span>. </div>"
      ],
      "text/plain": [
       "<IPython.core.display.HTML object>"
      ]
     },
     "metadata": {},
     "output_type": "display_data"
    },
    {
     "data": {
      "text/html": [
       "\n",
       "    <div>\n",
       "        \n",
       "    <div class='sent-compound' style='background:rgb(255,185,185);'>\n",
       "        <div class='sent-compound-title'>Compound</div>\n",
       "        <span>-0.273</span>\n",
       "    </div>\n",
       "     \n",
       "        \n",
       "    <div class='sent-bars'>\n",
       "        <div class='sent-bars-title'>Proportions</div>\n",
       "        <div class='sent-bar sent-bar-pos' style='height:8px; left:8px;' title='neg proportion: 0.103'><span>pos</span></div>\n",
       "        <div class='sent-bar sent-bar-neu' style='height:59px; left:38px;' title='neg proportion: 0.739'><span>neu</span></div>\n",
       "        <div class='sent-bar sent-bar-neg' style='height:12px; left:68px;' title='neg proportion: 0.158'><span>neg</span></div>\n",
       "        <div class='sent-bar-line'></div>\n",
       "    </div>\n",
       "    \n",
       "    </div>\n",
       "    "
      ],
      "text/plain": [
       "<IPython.core.display.HTML object>"
      ]
     },
     "metadata": {},
     "output_type": "display_data"
    },
    {
     "data": {
      "text/html": [
       "\n",
       "    <style>\n",
       "    .sent-word {\n",
       "        color: #000;\n",
       "        padding: 2px;\n",
       "        border-radius: 3px;\n",
       "        font-size: 14px;\n",
       "        margin-left: 0px;\n",
       "        margin-bottom: 5px;\n",
       "        white-space: nowrap;\n",
       "        overflow-wrap: normal;\n",
       "        word-break: normal;\n",
       "        border: 1px solid #ccc;\n",
       "        display: inline-block;\n",
       "    }\n",
       "    .sent-bars {\n",
       "        margin-top:20px; margin-bottom:40px; background:#fff; border-radius:5px; width:100px; height:100px; display:inline-block; position:relative; vertical-align:top;border:1px solid #ccc;\n",
       "    }\n",
       "    .sent-bar {\n",
       "        position:absolute; bottom:15px; width:24px; border:1px solid #bbb; border-radius:4px 4px 0 0; text-align:center; color:#000; font-size:15px;\n",
       "    }\n",
       "    .sent-bar-line {\n",
       "        position:absolute; bottom:15px; left:5px; width:90px;margin:0 auto; height:1px; background:#999;\n",
       "    }\n",
       "    .sent-bar-pos { background:rgb(0,200,0);}\n",
       "    .sent-bar-neu { background:rgb(255,255,255);}\n",
       "    .sent-bar-neg { background:rgb(200,0,0);}\n",
       "    .sent-bar span:first-child {\n",
       "        position:absolute; bottom:-14px; left:0; width:100%; text-align:center; font-size:12px;\n",
       "    }\n",
       "    .sent-bars-title, .sent-compound-title {\n",
       "        position:absolute; width:100%; font-weight:bold; top:-15px; left:0; font-size:12px;\n",
       "    }\n",
       "    .sent-compound {\n",
       "        display:inline-block; vertical-align:top;border:1px solid #ccc;border-radius:5px;margin-top:20px; position:relative;\n",
       "        width:100px; height:100px; font-size:14px; font-weight:bold; margin-bottom:40px;\n",
       "    }\n",
       "    .sent-compound span {\n",
       "    color:#000; \n",
       "    display:inline-block;\n",
       "    line-height:100px;\n",
       "    width:100px;\n",
       "    text-align:center; \n",
       "    }\n",
       "\n",
       "    .text-wrapper {\n",
       "        font-size: 14px;width:100%;max-width:800px;overflow-wrap:anywhere;line-height:1.5;\n",
       "    }\n",
       "    span.ttppee {font-style:italic;}\n",
       "\n",
       "    span.icon {font-size:12px;}\n",
       "    </style>\n",
       "    <div class='text-wrapper'><span class='sent-word' style='background-color:rgb(255,255,255);' title='score: 0 '>Marmite</span> <span class='sent-word' style='background-color:rgb(255,255,255);' title='score: 0 '>marmite</span> <span class='sent-word' style='background-color:rgb(255,255,255);' title='score: 0 '>marmite</span></div>"
      ],
      "text/plain": [
       "<IPython.core.display.HTML object>"
      ]
     },
     "metadata": {},
     "output_type": "display_data"
    },
    {
     "data": {
      "text/html": [
       "\n",
       "    <div>\n",
       "        \n",
       "    <div class='sent-compound' style='background:rgb(255,255,255);'>\n",
       "        <div class='sent-compound-title'>Compound</div>\n",
       "        <span>0.000</span>\n",
       "    </div>\n",
       "     \n",
       "        \n",
       "    <div class='sent-bars'>\n",
       "        <div class='sent-bars-title'>Proportions</div>\n",
       "        <div class='sent-bar sent-bar-pos' style='height:0px; left:8px;' title='neg proportion: 0.000'><span>pos</span></div>\n",
       "        <div class='sent-bar sent-bar-neu' style='height:80px; left:38px;' title='neg proportion: 1.000'><span>neu</span></div>\n",
       "        <div class='sent-bar sent-bar-neg' style='height:0px; left:68px;' title='neg proportion: 0.000'><span>neg</span></div>\n",
       "        <div class='sent-bar-line'></div>\n",
       "    </div>\n",
       "    \n",
       "    </div>\n",
       "    "
      ],
      "text/plain": [
       "<IPython.core.display.HTML object>"
      ]
     },
     "metadata": {},
     "output_type": "display_data"
    },
    {
     "data": {
      "text/html": [
       "\n",
       "    <style>\n",
       "    .sent-word {\n",
       "        color: #000;\n",
       "        padding: 2px;\n",
       "        border-radius: 3px;\n",
       "        font-size: 14px;\n",
       "        margin-left: 0px;\n",
       "        margin-bottom: 5px;\n",
       "        white-space: nowrap;\n",
       "        overflow-wrap: normal;\n",
       "        word-break: normal;\n",
       "        border: 1px solid #ccc;\n",
       "        display: inline-block;\n",
       "    }\n",
       "    .sent-bars {\n",
       "        margin-top:20px; margin-bottom:40px; background:#fff; border-radius:5px; width:100px; height:100px; display:inline-block; position:relative; vertical-align:top;border:1px solid #ccc;\n",
       "    }\n",
       "    .sent-bar {\n",
       "        position:absolute; bottom:15px; width:24px; border:1px solid #bbb; border-radius:4px 4px 0 0; text-align:center; color:#000; font-size:15px;\n",
       "    }\n",
       "    .sent-bar-line {\n",
       "        position:absolute; bottom:15px; left:5px; width:90px;margin:0 auto; height:1px; background:#999;\n",
       "    }\n",
       "    .sent-bar-pos { background:rgb(0,200,0);}\n",
       "    .sent-bar-neu { background:rgb(255,255,255);}\n",
       "    .sent-bar-neg { background:rgb(200,0,0);}\n",
       "    .sent-bar span:first-child {\n",
       "        position:absolute; bottom:-14px; left:0; width:100%; text-align:center; font-size:12px;\n",
       "    }\n",
       "    .sent-bars-title, .sent-compound-title {\n",
       "        position:absolute; width:100%; font-weight:bold; top:-15px; left:0; font-size:12px;\n",
       "    }\n",
       "    .sent-compound {\n",
       "        display:inline-block; vertical-align:top;border:1px solid #ccc;border-radius:5px;margin-top:20px; position:relative;\n",
       "        width:100px; height:100px; font-size:14px; font-weight:bold; margin-bottom:40px;\n",
       "    }\n",
       "    .sent-compound span {\n",
       "    color:#000; \n",
       "    display:inline-block;\n",
       "    line-height:100px;\n",
       "    width:100px;\n",
       "    text-align:center; \n",
       "    }\n",
       "\n",
       "    .text-wrapper {\n",
       "        font-size: 14px;width:100%;max-width:800px;overflow-wrap:anywhere;line-height:1.5;\n",
       "    }\n",
       "    span.ttppee {font-style:italic;}\n",
       "\n",
       "    span.icon {font-size:12px;}\n",
       "    </style>\n",
       "    <div class='text-wrapper'><span class='sent-word' style='background-color:rgb(255,255,255);' title='score: 0 '>Marmite</span> <span class='sent-word' style='background-color:rgb(255,255,255);' title='score: 0 '>is</span> very <span class='sent-word' style='background-color:rgb(115,255,115);' title='score: 2.193 boosted'>⬆️good</span>.</div>"
      ],
      "text/plain": [
       "<IPython.core.display.HTML object>"
      ]
     },
     "metadata": {},
     "output_type": "display_data"
    },
    {
     "data": {
      "text/html": [
       "\n",
       "    <div>\n",
       "        \n",
       "    <div class='sent-compound' style='background:rgb(129,255,129);'>\n",
       "        <div class='sent-compound-title'>Compound</div>\n",
       "        <span>0.493</span>\n",
       "    </div>\n",
       "     \n",
       "        \n",
       "    <div class='sent-bars'>\n",
       "        <div class='sent-bars-title'>Proportions</div>\n",
       "        <div class='sent-bar sent-bar-pos' style='height:41px; left:8px;' title='neg proportion: 0.516'><span>pos</span></div>\n",
       "        <div class='sent-bar sent-bar-neu' style='height:38px; left:38px;' title='neg proportion: 0.484'><span>neu</span></div>\n",
       "        <div class='sent-bar sent-bar-neg' style='height:0px; left:68px;' title='neg proportion: 0.000'><span>neg</span></div>\n",
       "        <div class='sent-bar-line'></div>\n",
       "    </div>\n",
       "    \n",
       "    </div>\n",
       "    "
      ],
      "text/plain": [
       "<IPython.core.display.HTML object>"
      ]
     },
     "metadata": {},
     "output_type": "display_data"
    },
    {
     "data": {
      "text/html": [
       "\n",
       "    <style>\n",
       "    .sent-word {\n",
       "        color: #000;\n",
       "        padding: 2px;\n",
       "        border-radius: 3px;\n",
       "        font-size: 14px;\n",
       "        margin-left: 0px;\n",
       "        margin-bottom: 5px;\n",
       "        white-space: nowrap;\n",
       "        overflow-wrap: normal;\n",
       "        word-break: normal;\n",
       "        border: 1px solid #ccc;\n",
       "        display: inline-block;\n",
       "    }\n",
       "    .sent-bars {\n",
       "        margin-top:20px; margin-bottom:40px; background:#fff; border-radius:5px; width:100px; height:100px; display:inline-block; position:relative; vertical-align:top;border:1px solid #ccc;\n",
       "    }\n",
       "    .sent-bar {\n",
       "        position:absolute; bottom:15px; width:24px; border:1px solid #bbb; border-radius:4px 4px 0 0; text-align:center; color:#000; font-size:15px;\n",
       "    }\n",
       "    .sent-bar-line {\n",
       "        position:absolute; bottom:15px; left:5px; width:90px;margin:0 auto; height:1px; background:#999;\n",
       "    }\n",
       "    .sent-bar-pos { background:rgb(0,200,0);}\n",
       "    .sent-bar-neu { background:rgb(255,255,255);}\n",
       "    .sent-bar-neg { background:rgb(200,0,0);}\n",
       "    .sent-bar span:first-child {\n",
       "        position:absolute; bottom:-14px; left:0; width:100%; text-align:center; font-size:12px;\n",
       "    }\n",
       "    .sent-bars-title, .sent-compound-title {\n",
       "        position:absolute; width:100%; font-weight:bold; top:-15px; left:0; font-size:12px;\n",
       "    }\n",
       "    .sent-compound {\n",
       "        display:inline-block; vertical-align:top;border:1px solid #ccc;border-radius:5px;margin-top:20px; position:relative;\n",
       "        width:100px; height:100px; font-size:14px; font-weight:bold; margin-bottom:40px;\n",
       "    }\n",
       "    .sent-compound span {\n",
       "    color:#000; \n",
       "    display:inline-block;\n",
       "    line-height:100px;\n",
       "    width:100px;\n",
       "    text-align:center; \n",
       "    }\n",
       "\n",
       "    .text-wrapper {\n",
       "        font-size: 14px;width:100%;max-width:800px;overflow-wrap:anywhere;line-height:1.5;\n",
       "    }\n",
       "    span.ttppee {font-style:italic;}\n",
       "\n",
       "    span.icon {font-size:12px;}\n",
       "    </style>\n",
       "    <div class='text-wrapper'>😀 <span class=\"icon\" title=\"The text in italics was not in the original text, this is the description of the emoji that VADER uses for scoring.\">🛈</span> <span class=\"ttppee\"><span class='sent-word' style='background-color:rgb(159,255,159);' title='score: 1.5 '>grinning</span> <span class='sent-word' style='background-color:rgb(255,255,255);' title='score: 0 '>face</span></span></div>"
      ],
      "text/plain": [
       "<IPython.core.display.HTML object>"
      ]
     },
     "metadata": {},
     "output_type": "display_data"
    },
    {
     "data": {
      "text/html": [
       "\n",
       "    <div>\n",
       "        \n",
       "    <div class='sent-compound' style='background:rgb(162,255,162);'>\n",
       "        <div class='sent-compound-title'>Compound</div>\n",
       "        <span>0.361</span>\n",
       "    </div>\n",
       "     \n",
       "        \n",
       "    <div class='sent-bars'>\n",
       "        <div class='sent-bars-title'>Proportions</div>\n",
       "        <div class='sent-bar sent-bar-pos' style='height:57px; left:8px;' title='neg proportion: 0.714'><span>pos</span></div>\n",
       "        <div class='sent-bar sent-bar-neu' style='height:22px; left:38px;' title='neg proportion: 0.286'><span>neu</span></div>\n",
       "        <div class='sent-bar sent-bar-neg' style='height:0px; left:68px;' title='neg proportion: 0.000'><span>neg</span></div>\n",
       "        <div class='sent-bar-line'></div>\n",
       "    </div>\n",
       "    \n",
       "    </div>\n",
       "    "
      ],
      "text/plain": [
       "<IPython.core.display.HTML object>"
      ]
     },
     "metadata": {},
     "output_type": "display_data"
    },
    {
     "data": {
      "text/html": [
       "\n",
       "    <style>\n",
       "    .sent-word {\n",
       "        color: #000;\n",
       "        padding: 2px;\n",
       "        border-radius: 3px;\n",
       "        font-size: 14px;\n",
       "        margin-left: 0px;\n",
       "        margin-bottom: 5px;\n",
       "        white-space: nowrap;\n",
       "        overflow-wrap: normal;\n",
       "        word-break: normal;\n",
       "        border: 1px solid #ccc;\n",
       "        display: inline-block;\n",
       "    }\n",
       "    .sent-bars {\n",
       "        margin-top:20px; margin-bottom:40px; background:#fff; border-radius:5px; width:100px; height:100px; display:inline-block; position:relative; vertical-align:top;border:1px solid #ccc;\n",
       "    }\n",
       "    .sent-bar {\n",
       "        position:absolute; bottom:15px; width:24px; border:1px solid #bbb; border-radius:4px 4px 0 0; text-align:center; color:#000; font-size:15px;\n",
       "    }\n",
       "    .sent-bar-line {\n",
       "        position:absolute; bottom:15px; left:5px; width:90px;margin:0 auto; height:1px; background:#999;\n",
       "    }\n",
       "    .sent-bar-pos { background:rgb(0,200,0);}\n",
       "    .sent-bar-neu { background:rgb(255,255,255);}\n",
       "    .sent-bar-neg { background:rgb(200,0,0);}\n",
       "    .sent-bar span:first-child {\n",
       "        position:absolute; bottom:-14px; left:0; width:100%; text-align:center; font-size:12px;\n",
       "    }\n",
       "    .sent-bars-title, .sent-compound-title {\n",
       "        position:absolute; width:100%; font-weight:bold; top:-15px; left:0; font-size:12px;\n",
       "    }\n",
       "    .sent-compound {\n",
       "        display:inline-block; vertical-align:top;border:1px solid #ccc;border-radius:5px;margin-top:20px; position:relative;\n",
       "        width:100px; height:100px; font-size:14px; font-weight:bold; margin-bottom:40px;\n",
       "    }\n",
       "    .sent-compound span {\n",
       "    color:#000; \n",
       "    display:inline-block;\n",
       "    line-height:100px;\n",
       "    width:100px;\n",
       "    text-align:center; \n",
       "    }\n",
       "\n",
       "    .text-wrapper {\n",
       "        font-size: 14px;width:100%;max-width:800px;overflow-wrap:anywhere;line-height:1.5;\n",
       "    }\n",
       "    span.ttppee {font-style:italic;}\n",
       "\n",
       "    span.icon {font-size:12px;}\n",
       "    </style>\n",
       "    <div class='text-wrapper'><span class='sent-word' style='background-color:rgb(127,255,127);' title='score: 2.0 '>:)</span> <span class='sent-word' style='background-color:rgb(255,255,255);' title='score: 0 '>That</span> <span class='sent-word' style='background-color:rgb(255,255,255);' title='score: 0 '>Marmite</span> <span class='sent-word' style='background-color:rgb(255,255,255);' title='score: 0 '>was</span> 😀 <span class=\"icon\" title=\"The text in italics was not in the original text, this is the description of the emoji that VADER uses for scoring.\">🛈</span> <span class=\"ttppee\"><span class='sent-word' style='background-color:rgb(159,255,159);' title='score: 1.5 '>grinning</span> <span class='sent-word' style='background-color:rgb(255,255,255);' title='score: 0 '>face</span></span>!</div>"
      ],
      "text/plain": [
       "<IPython.core.display.HTML object>"
      ]
     },
     "metadata": {},
     "output_type": "display_data"
    },
    {
     "data": {
      "text/html": [
       "\n",
       "    <div>\n",
       "        \n",
       "    <div class='sent-compound' style='background:rgb(76,255,76);'>\n",
       "        <div class='sent-compound-title'>Compound</div>\n",
       "        <span>0.700</span>\n",
       "    </div>\n",
       "     \n",
       "        \n",
       "    <div class='sent-bars'>\n",
       "        <div class='sent-bars-title'>Proportions</div>\n",
       "        <div class='sent-bar sent-bar-pos' style='height:47px; left:8px;' title='neg proportion: 0.592'><span>pos</span></div>\n",
       "        <div class='sent-bar sent-bar-neu' style='height:32px; left:38px;' title='neg proportion: 0.408'><span>neu</span></div>\n",
       "        <div class='sent-bar sent-bar-neg' style='height:0px; left:68px;' title='neg proportion: 0.000'><span>neg</span></div>\n",
       "        <div class='sent-bar-line'></div>\n",
       "    </div>\n",
       "    \n",
       "    </div>\n",
       "    "
      ],
      "text/plain": [
       "<IPython.core.display.HTML object>"
      ]
     },
     "metadata": {},
     "output_type": "display_data"
    },
    {
     "data": {
      "text/html": [
       "\n",
       "    <style>\n",
       "    .sent-word {\n",
       "        color: #000;\n",
       "        padding: 2px;\n",
       "        border-radius: 3px;\n",
       "        font-size: 14px;\n",
       "        margin-left: 0px;\n",
       "        margin-bottom: 5px;\n",
       "        white-space: nowrap;\n",
       "        overflow-wrap: normal;\n",
       "        word-break: normal;\n",
       "        border: 1px solid #ccc;\n",
       "        display: inline-block;\n",
       "    }\n",
       "    .sent-bars {\n",
       "        margin-top:20px; margin-bottom:40px; background:#fff; border-radius:5px; width:100px; height:100px; display:inline-block; position:relative; vertical-align:top;border:1px solid #ccc;\n",
       "    }\n",
       "    .sent-bar {\n",
       "        position:absolute; bottom:15px; width:24px; border:1px solid #bbb; border-radius:4px 4px 0 0; text-align:center; color:#000; font-size:15px;\n",
       "    }\n",
       "    .sent-bar-line {\n",
       "        position:absolute; bottom:15px; left:5px; width:90px;margin:0 auto; height:1px; background:#999;\n",
       "    }\n",
       "    .sent-bar-pos { background:rgb(0,200,0);}\n",
       "    .sent-bar-neu { background:rgb(255,255,255);}\n",
       "    .sent-bar-neg { background:rgb(200,0,0);}\n",
       "    .sent-bar span:first-child {\n",
       "        position:absolute; bottom:-14px; left:0; width:100%; text-align:center; font-size:12px;\n",
       "    }\n",
       "    .sent-bars-title, .sent-compound-title {\n",
       "        position:absolute; width:100%; font-weight:bold; top:-15px; left:0; font-size:12px;\n",
       "    }\n",
       "    .sent-compound {\n",
       "        display:inline-block; vertical-align:top;border:1px solid #ccc;border-radius:5px;margin-top:20px; position:relative;\n",
       "        width:100px; height:100px; font-size:14px; font-weight:bold; margin-bottom:40px;\n",
       "    }\n",
       "    .sent-compound span {\n",
       "    color:#000; \n",
       "    display:inline-block;\n",
       "    line-height:100px;\n",
       "    width:100px;\n",
       "    text-align:center; \n",
       "    }\n",
       "\n",
       "    .text-wrapper {\n",
       "        font-size: 14px;width:100%;max-width:800px;overflow-wrap:anywhere;line-height:1.5;\n",
       "    }\n",
       "    span.ttppee {font-style:italic;}\n",
       "\n",
       "    span.icon {font-size:12px;}\n",
       "    </style>\n",
       "    <div class='text-wrapper'><span class='sent-word' style='background-color:rgb(255,255,255);' title='score: 0 '>Marmite</span> <span class='sent-word' style='background-color:rgb(255,255,255);' title='score: 0 '>is</span> <span class='sent-word' style='background-color:rgb(255,95,95);' title='score: -2.5 '>bad</span>.</div>"
      ],
      "text/plain": [
       "<IPython.core.display.HTML object>"
      ]
     },
     "metadata": {},
     "output_type": "display_data"
    },
    {
     "data": {
      "text/html": [
       "\n",
       "    <div>\n",
       "        \n",
       "    <div class='sent-compound' style='background:rgb(255,116,116);'>\n",
       "        <div class='sent-compound-title'>Compound</div>\n",
       "        <span>-0.542</span>\n",
       "    </div>\n",
       "     \n",
       "        \n",
       "    <div class='sent-bars'>\n",
       "        <div class='sent-bars-title'>Proportions</div>\n",
       "        <div class='sent-bar sent-bar-pos' style='height:0px; left:8px;' title='neg proportion: 0.000'><span>pos</span></div>\n",
       "        <div class='sent-bar sent-bar-neu' style='height:29px; left:38px;' title='neg proportion: 0.364'><span>neu</span></div>\n",
       "        <div class='sent-bar sent-bar-neg' style='height:50px; left:68px;' title='neg proportion: 0.636'><span>neg</span></div>\n",
       "        <div class='sent-bar-line'></div>\n",
       "    </div>\n",
       "    \n",
       "    </div>\n",
       "    "
      ],
      "text/plain": [
       "<IPython.core.display.HTML object>"
      ]
     },
     "metadata": {},
     "output_type": "display_data"
    },
    {
     "data": {
      "text/html": [
       "\n",
       "    <style>\n",
       "    .sent-word {\n",
       "        color: #000;\n",
       "        padding: 2px;\n",
       "        border-radius: 3px;\n",
       "        font-size: 14px;\n",
       "        margin-left: 0px;\n",
       "        margin-bottom: 5px;\n",
       "        white-space: nowrap;\n",
       "        overflow-wrap: normal;\n",
       "        word-break: normal;\n",
       "        border: 1px solid #ccc;\n",
       "        display: inline-block;\n",
       "    }\n",
       "    .sent-bars {\n",
       "        margin-top:20px; margin-bottom:40px; background:#fff; border-radius:5px; width:100px; height:100px; display:inline-block; position:relative; vertical-align:top;border:1px solid #ccc;\n",
       "    }\n",
       "    .sent-bar {\n",
       "        position:absolute; bottom:15px; width:24px; border:1px solid #bbb; border-radius:4px 4px 0 0; text-align:center; color:#000; font-size:15px;\n",
       "    }\n",
       "    .sent-bar-line {\n",
       "        position:absolute; bottom:15px; left:5px; width:90px;margin:0 auto; height:1px; background:#999;\n",
       "    }\n",
       "    .sent-bar-pos { background:rgb(0,200,0);}\n",
       "    .sent-bar-neu { background:rgb(255,255,255);}\n",
       "    .sent-bar-neg { background:rgb(200,0,0);}\n",
       "    .sent-bar span:first-child {\n",
       "        position:absolute; bottom:-14px; left:0; width:100%; text-align:center; font-size:12px;\n",
       "    }\n",
       "    .sent-bars-title, .sent-compound-title {\n",
       "        position:absolute; width:100%; font-weight:bold; top:-15px; left:0; font-size:12px;\n",
       "    }\n",
       "    .sent-compound {\n",
       "        display:inline-block; vertical-align:top;border:1px solid #ccc;border-radius:5px;margin-top:20px; position:relative;\n",
       "        width:100px; height:100px; font-size:14px; font-weight:bold; margin-bottom:40px;\n",
       "    }\n",
       "    .sent-compound span {\n",
       "    color:#000; \n",
       "    display:inline-block;\n",
       "    line-height:100px;\n",
       "    width:100px;\n",
       "    text-align:center; \n",
       "    }\n",
       "\n",
       "    .text-wrapper {\n",
       "        font-size: 14px;width:100%;max-width:800px;overflow-wrap:anywhere;line-height:1.5;\n",
       "    }\n",
       "    span.ttppee {font-style:italic;}\n",
       "\n",
       "    span.icon {font-size:12px;}\n",
       "    </style>\n",
       "    <div class='text-wrapper'><span class='sent-word' style='background-color:rgb(255,255,255);' title='score: 0 '>Marmite</span> <span class='sent-word' style='background-color:rgb(255,255,255);' title='score: 0 '>is</span> <span class='sent-word' style='background-color:rgb(133,255,133);' title='score: 1.9 '>good</span> <span class='sent-word' style='background-color:rgb(255,255,255);' title='score: 0 '>-</span> <span class='sent-word' style='background-color:rgb(255,255,255);' title='score: 0 '>and</span> <span class='sent-word' style='background-color:rgb(255,95,95);' title='score: -2.5 '>bad</span></div>"
      ],
      "text/plain": [
       "<IPython.core.display.HTML object>"
      ]
     },
     "metadata": {},
     "output_type": "display_data"
    },
    {
     "data": {
      "text/html": [
       "\n",
       "    <div>\n",
       "        \n",
       "    <div class='sent-compound' style='background:rgb(255,215,215);'>\n",
       "        <div class='sent-compound-title'>Compound</div>\n",
       "        <span>-0.153</span>\n",
       "    </div>\n",
       "     \n",
       "        \n",
       "    <div class='sent-bars'>\n",
       "        <div class='sent-bars-title'>Proportions</div>\n",
       "        <div class='sent-bar sent-bar-pos' style='height:22px; left:8px;' title='neg proportion: 0.279'><span>pos</span></div>\n",
       "        <div class='sent-bar sent-bar-neu' style='height:30px; left:38px;' title='neg proportion: 0.385'><span>neu</span></div>\n",
       "        <div class='sent-bar sent-bar-neg' style='height:26px; left:68px;' title='neg proportion: 0.337'><span>neg</span></div>\n",
       "        <div class='sent-bar-line'></div>\n",
       "    </div>\n",
       "    \n",
       "    </div>\n",
       "    "
      ],
      "text/plain": [
       "<IPython.core.display.HTML object>"
      ]
     },
     "metadata": {},
     "output_type": "display_data"
    },
    {
     "data": {
      "text/html": [
       "\n",
       "    <style>\n",
       "    .sent-word {\n",
       "        color: #000;\n",
       "        padding: 2px;\n",
       "        border-radius: 3px;\n",
       "        font-size: 14px;\n",
       "        margin-left: 0px;\n",
       "        margin-bottom: 5px;\n",
       "        white-space: nowrap;\n",
       "        overflow-wrap: normal;\n",
       "        word-break: normal;\n",
       "        border: 1px solid #ccc;\n",
       "        display: inline-block;\n",
       "    }\n",
       "    .sent-bars {\n",
       "        margin-top:20px; margin-bottom:40px; background:#fff; border-radius:5px; width:100px; height:100px; display:inline-block; position:relative; vertical-align:top;border:1px solid #ccc;\n",
       "    }\n",
       "    .sent-bar {\n",
       "        position:absolute; bottom:15px; width:24px; border:1px solid #bbb; border-radius:4px 4px 0 0; text-align:center; color:#000; font-size:15px;\n",
       "    }\n",
       "    .sent-bar-line {\n",
       "        position:absolute; bottom:15px; left:5px; width:90px;margin:0 auto; height:1px; background:#999;\n",
       "    }\n",
       "    .sent-bar-pos { background:rgb(0,200,0);}\n",
       "    .sent-bar-neu { background:rgb(255,255,255);}\n",
       "    .sent-bar-neg { background:rgb(200,0,0);}\n",
       "    .sent-bar span:first-child {\n",
       "        position:absolute; bottom:-14px; left:0; width:100%; text-align:center; font-size:12px;\n",
       "    }\n",
       "    .sent-bars-title, .sent-compound-title {\n",
       "        position:absolute; width:100%; font-weight:bold; top:-15px; left:0; font-size:12px;\n",
       "    }\n",
       "    .sent-compound {\n",
       "        display:inline-block; vertical-align:top;border:1px solid #ccc;border-radius:5px;margin-top:20px; position:relative;\n",
       "        width:100px; height:100px; font-size:14px; font-weight:bold; margin-bottom:40px;\n",
       "    }\n",
       "    .sent-compound span {\n",
       "    color:#000; \n",
       "    display:inline-block;\n",
       "    line-height:100px;\n",
       "    width:100px;\n",
       "    text-align:center; \n",
       "    }\n",
       "\n",
       "    .text-wrapper {\n",
       "        font-size: 14px;width:100%;max-width:800px;overflow-wrap:anywhere;line-height:1.5;\n",
       "    }\n",
       "    span.ttppee {font-style:italic;}\n",
       "\n",
       "    span.icon {font-size:12px;}\n",
       "    </style>\n",
       "    <div class='text-wrapper'><span class='sent-word' style='background-color:rgb(255,255,255);' title='score: 0 '>I</span> <span class='sent-word' style='background-color:rgb(255,82,82);' title='score: -2.7 '>hate</span> <span class='sent-word' style='background-color:rgb(255,255,255);' title='score: 0 '>Marmite</span>! <span class='sent-word' style='background-color:rgb(127,255,127);' title='score: 2.0 '>:)</span></div>"
      ],
      "text/plain": [
       "<IPython.core.display.HTML object>"
      ]
     },
     "metadata": {},
     "output_type": "display_data"
    },
    {
     "data": {
      "text/html": [
       "\n",
       "    <div>\n",
       "        \n",
       "    <div class='sent-compound' style='background:rgb(255,191,191);'>\n",
       "        <div class='sent-compound-title'>Compound</div>\n",
       "        <span>-0.248</span>\n",
       "    </div>\n",
       "     \n",
       "        \n",
       "    <div class='sent-bars'>\n",
       "        <div class='sent-bars-title'>Proportions</div>\n",
       "        <div class='sent-bar sent-bar-pos' style='height:26px; left:8px;' title='neg proportion: 0.334'><span>pos</span></div>\n",
       "        <div class='sent-bar sent-bar-neu' style='height:17px; left:38px;' title='neg proportion: 0.222'><span>neu</span></div>\n",
       "        <div class='sent-bar sent-bar-neg' style='height:35px; left:68px;' title='neg proportion: 0.444'><span>neg</span></div>\n",
       "        <div class='sent-bar-line'></div>\n",
       "    </div>\n",
       "    \n",
       "    </div>\n",
       "    "
      ],
      "text/plain": [
       "<IPython.core.display.HTML object>"
      ]
     },
     "metadata": {},
     "output_type": "display_data"
    },
    {
     "data": {
      "text/html": [
       "\n",
       "    <style>\n",
       "    .sent-word {\n",
       "        color: #000;\n",
       "        padding: 2px;\n",
       "        border-radius: 3px;\n",
       "        font-size: 14px;\n",
       "        margin-left: 0px;\n",
       "        margin-bottom: 5px;\n",
       "        white-space: nowrap;\n",
       "        overflow-wrap: normal;\n",
       "        word-break: normal;\n",
       "        border: 1px solid #ccc;\n",
       "        display: inline-block;\n",
       "    }\n",
       "    .sent-bars {\n",
       "        margin-top:20px; margin-bottom:40px; background:#fff; border-radius:5px; width:100px; height:100px; display:inline-block; position:relative; vertical-align:top;border:1px solid #ccc;\n",
       "    }\n",
       "    .sent-bar {\n",
       "        position:absolute; bottom:15px; width:24px; border:1px solid #bbb; border-radius:4px 4px 0 0; text-align:center; color:#000; font-size:15px;\n",
       "    }\n",
       "    .sent-bar-line {\n",
       "        position:absolute; bottom:15px; left:5px; width:90px;margin:0 auto; height:1px; background:#999;\n",
       "    }\n",
       "    .sent-bar-pos { background:rgb(0,200,0);}\n",
       "    .sent-bar-neu { background:rgb(255,255,255);}\n",
       "    .sent-bar-neg { background:rgb(200,0,0);}\n",
       "    .sent-bar span:first-child {\n",
       "        position:absolute; bottom:-14px; left:0; width:100%; text-align:center; font-size:12px;\n",
       "    }\n",
       "    .sent-bars-title, .sent-compound-title {\n",
       "        position:absolute; width:100%; font-weight:bold; top:-15px; left:0; font-size:12px;\n",
       "    }\n",
       "    .sent-compound {\n",
       "        display:inline-block; vertical-align:top;border:1px solid #ccc;border-radius:5px;margin-top:20px; position:relative;\n",
       "        width:100px; height:100px; font-size:14px; font-weight:bold; margin-bottom:40px;\n",
       "    }\n",
       "    .sent-compound span {\n",
       "    color:#000; \n",
       "    display:inline-block;\n",
       "    line-height:100px;\n",
       "    width:100px;\n",
       "    text-align:center; \n",
       "    }\n",
       "\n",
       "    .text-wrapper {\n",
       "        font-size: 14px;width:100%;max-width:800px;overflow-wrap:anywhere;line-height:1.5;\n",
       "    }\n",
       "    span.ttppee {font-style:italic;}\n",
       "\n",
       "    span.icon {font-size:12px;}\n",
       "    </style>\n",
       "    <div class='text-wrapper'><span class='sent-word' style='background-color:rgb(255,255,255);' title='score: 0 '>I</span> <span class='sent-word' style='background-color:rgb(50,255,50);' title='score: 3.2 '>love</span> <span class='sent-word' style='background-color:rgb(255,255,255);' title='score: 0 '>Marmite</span> <span class='sent-word' style='background-color:rgb(255,133,133);' title='score: -1.9 '>:(</span></div>"
      ],
      "text/plain": [
       "<IPython.core.display.HTML object>"
      ]
     },
     "metadata": {},
     "output_type": "display_data"
    },
    {
     "data": {
      "text/html": [
       "\n",
       "    <div>\n",
       "        \n",
       "    <div class='sent-compound' style='background:rgb(173,255,173);'>\n",
       "        <div class='sent-compound-title'>Compound</div>\n",
       "        <span>0.318</span>\n",
       "    </div>\n",
       "     \n",
       "        \n",
       "    <div class='sent-bars'>\n",
       "        <div class='sent-bars-title'>Proportions</div>\n",
       "        <div class='sent-bar sent-bar-pos' style='height:36px; left:8px;' title='neg proportion: 0.462'><span>pos</span></div>\n",
       "        <div class='sent-bar sent-bar-neu' style='height:17px; left:38px;' title='neg proportion: 0.220'><span>neu</span></div>\n",
       "        <div class='sent-bar sent-bar-neg' style='height:25px; left:68px;' title='neg proportion: 0.319'><span>neg</span></div>\n",
       "        <div class='sent-bar-line'></div>\n",
       "    </div>\n",
       "    \n",
       "    </div>\n",
       "    "
      ],
      "text/plain": [
       "<IPython.core.display.HTML object>"
      ]
     },
     "metadata": {},
     "output_type": "display_data"
    }
   ],
   "source": [
    "examples = [\n",
    "    'Marmite is good.',\n",
    "    'Marmite is occasionally good.',\n",
    "    'Marmite is not good.',\n",
    "    'Marmite is a savoury food spread based on yeast extract. It is often used as a spread on toast. Marmite is controversial: it is loved by some and hated by others. ',\n",
    "    'Marmite marmite marmite',\n",
    "    'Marmite is very good.',\n",
    "    '😀',\n",
    "    ':) That Marmite was 😀!',\n",
    "    'Marmite is bad.',\n",
    "    'Marmite is good - and bad', \n",
    "    'I hate Marmite! :)',\n",
    "    'I love Marmite :(',\n",
    "]\n",
    "\n",
    "print('Hint: Hover your mouse over specific words or the bar chart to see more information.  ')\n",
    "\n",
    "for example in examples:\n",
    "    interpreter.explain(example)"
   ]
  },
  {
   "cell_type": "markdown",
   "metadata": {},
   "source": [
    "## 4. Challenges of sentiment analysis"
   ]
  },
  {
   "cell_type": "markdown",
   "metadata": {},
   "source": [
    "Language does not always express sentiment in a straightforward way. VADER's word-level scoring allows us to understand some of the challenges of measuring sentiment. Below we explain a number of challenges with examples. For each challenge, come up with your own example and enter it into the `your_example` variable to test it out. Rather than invent an example, think of some real-life examples that you have encountered over the last 24-48 hours (e.g. something you read online, something someone said to you, a message you received, etc). "
   ]
  },
  {
   "cell_type": "markdown",
   "metadata": {},
   "source": [
    "### Straightforward sentiment"
   ]
  },
  {
   "cell_type": "markdown",
   "metadata": {},
   "source": [
    "Some texts are straightforward!"
   ]
  },
  {
   "cell_type": "code",
   "execution_count": 79,
   "metadata": {},
   "outputs": [
    {
     "name": "stdout",
     "output_type": "stream",
     "text": [
      "Hint: Hover your mouse over specific words or the bar chart to see more information.  \n"
     ]
    },
    {
     "data": {
      "text/html": [
       "\n",
       "    <style>\n",
       "    .sent-word {\n",
       "        color: #000;\n",
       "        padding: 2px;\n",
       "        border-radius: 3px;\n",
       "        font-size: 14px;\n",
       "        margin-left: 0px;\n",
       "        margin-bottom: 5px;\n",
       "        white-space: nowrap;\n",
       "        overflow-wrap: normal;\n",
       "        word-break: normal;\n",
       "        border: 1px solid #ccc;\n",
       "        display: inline-block;\n",
       "    }\n",
       "    .sent-bars {\n",
       "        margin-top:20px; margin-bottom:40px; background:#fff; border-radius:5px; width:100px; height:100px; display:inline-block; position:relative; vertical-align:top;border:1px solid #ccc;\n",
       "    }\n",
       "    .sent-bar {\n",
       "        position:absolute; bottom:15px; width:24px; border:1px solid #bbb; border-radius:4px 4px 0 0; text-align:center; color:#000; font-size:15px;\n",
       "    }\n",
       "    .sent-bar-line {\n",
       "        position:absolute; bottom:15px; left:5px; width:90px;margin:0 auto; height:1px; background:#999;\n",
       "    }\n",
       "    .sent-bar-pos { background:rgb(0,200,0);}\n",
       "    .sent-bar-neu { background:rgb(255,255,255);}\n",
       "    .sent-bar-neg { background:rgb(200,0,0);}\n",
       "    .sent-bar span:first-child {\n",
       "        position:absolute; bottom:-14px; left:0; width:100%; text-align:center; font-size:12px;\n",
       "    }\n",
       "    .sent-bars-title, .sent-compound-title {\n",
       "        position:absolute; width:100%; font-weight:bold; top:-15px; left:0; font-size:12px;\n",
       "    }\n",
       "    .sent-compound {\n",
       "        display:inline-block; vertical-align:top;border:1px solid #ccc;border-radius:5px;margin-top:20px; position:relative;\n",
       "        width:100px; height:100px; font-size:14px; font-weight:bold; margin-bottom:40px;\n",
       "    }\n",
       "    .sent-compound span {\n",
       "    color:#000; \n",
       "    display:inline-block;\n",
       "    line-height:100px;\n",
       "    width:100px;\n",
       "    text-align:center; \n",
       "    }\n",
       "\n",
       "    .text-wrapper {\n",
       "        font-size: 14px;width:100%;max-width:800px;overflow-wrap:anywhere;line-height:1.5;\n",
       "    }\n",
       "    span.ttppee {font-style:italic;}\n",
       "\n",
       "    span.icon {font-size:12px;}\n",
       "    </style>\n",
       "    <div class='text-wrapper'><span class='sent-word' style='background-color:rgb(255,255,255);' title='score: 0 '>all</span> <span class='sent-word' style='background-color:rgb(255,255,255);' title='score: 0 '>this</span> <span class='sent-word' style='background-color:rgb(255,255,255);' title='score: 0 '>leads</span> <span class='sent-word' style='background-color:rgb(255,255,255);' title='score: 0 '>to</span> <span class='sent-word' style='background-color:rgb(255,255,255);' title='score: 0 '>a</span> <span class='sent-word' style='background-color:rgb(255,255,255);' title='score: 0 '>finale</span> <span class='sent-word' style='background-color:rgb(255,255,255);' title='score: 0 '>that</span> <span class='sent-word' style='background-color:rgb(255,255,255);' title='score: 0 '>is</span> so <span class='sent-word' style='background-color:rgb(255,48,48);' title='score: -3.24125 boosted'>⬆️dumb</span> <span class='sent-word' style='background-color:rgb(255,255,255);' title='score: 0 '>,</span> <span class='sent-word' style='background-color:rgb(255,255,255);' title='score: 0 '>and</span> so <span class='sent-word' style='background-color:rgb(255,40,40);' title='score: -3.36625 boosted'>⬆️stupid</span> <span class='sent-word' style='background-color:rgb(255,255,255);' title='score: 0 '>that</span> <span class='sent-word' style='background-color:rgb(255,255,255);' title='score: 0 '>is</span> <span class='sent-word' style='background-color:rgb(255,255,255);' title='score: 0 '>it</span> unbelievably <span class='sent-word' style='background-color:rgb(255,89,89);' title='score: -2.593 boosted'>⬆️dumb</span>, <span class='sent-word' style='background-color:rgb(255,255,255);' title='score: 0 '>and</span> <span class='sent-word' style='background-color:rgb(255,255,255);' title='score: 0 '>the</span> <span class='sent-word' style='background-color:rgb(255,255,255);' title='score: 0 '>stunts</span>, <span class='sent-word' style='background-color:rgb(255,255,255);' title='score: 0 '>dialogue</span> <span class='sent-word' style='background-color:rgb(255,255,255);' title='score: 0 '>and</span> <span class='sent-word' style='background-color:rgb(255,255,255);' title='score: 0 '>acting</span> <span class='sent-word' style='background-color:rgb(255,255,255);' title='score: 0 '>all</span> <span class='sent-word' style='background-color:rgb(255,76,76);' title='score: -2.8 '>ruin</span> <span class='sent-word' style='background-color:rgb(255,255,255);' title='score: 0 '>this</span> <span class='sent-word' style='background-color:rgb(255,255,255);' title='score: 0 '>movie</span></div>"
      ],
      "text/plain": [
       "<IPython.core.display.HTML object>"
      ]
     },
     "metadata": {},
     "output_type": "display_data"
    },
    {
     "data": {
      "text/html": [
       "\n",
       "    <div>\n",
       "        \n",
       "    <div class='sent-compound' style='background:rgb(255,12,12);'>\n",
       "        <div class='sent-compound-title'>Compound</div>\n",
       "        <span>-0.952</span>\n",
       "    </div>\n",
       "     \n",
       "        \n",
       "    <div class='sent-bars'>\n",
       "        <div class='sent-bars-title'>Proportions</div>\n",
       "        <div class='sent-bar sent-bar-pos' style='height:0px; left:8px;' title='neg proportion: 0.000'><span>pos</span></div>\n",
       "        <div class='sent-bar sent-bar-neu' style='height:48px; left:38px;' title='neg proportion: 0.610'><span>neu</span></div>\n",
       "        <div class='sent-bar sent-bar-neg' style='height:31px; left:68px;' title='neg proportion: 0.390'><span>neg</span></div>\n",
       "        <div class='sent-bar-line'></div>\n",
       "    </div>\n",
       "    \n",
       "    </div>\n",
       "    "
      ],
      "text/plain": [
       "<IPython.core.display.HTML object>"
      ]
     },
     "metadata": {},
     "output_type": "display_data"
    },
    {
     "data": {
      "text/html": [
       "\n",
       "    <style>\n",
       "    .sent-word {\n",
       "        color: #000;\n",
       "        padding: 2px;\n",
       "        border-radius: 3px;\n",
       "        font-size: 14px;\n",
       "        margin-left: 0px;\n",
       "        margin-bottom: 5px;\n",
       "        white-space: nowrap;\n",
       "        overflow-wrap: normal;\n",
       "        word-break: normal;\n",
       "        border: 1px solid #ccc;\n",
       "        display: inline-block;\n",
       "    }\n",
       "    .sent-bars {\n",
       "        margin-top:20px; margin-bottom:40px; background:#fff; border-radius:5px; width:100px; height:100px; display:inline-block; position:relative; vertical-align:top;border:1px solid #ccc;\n",
       "    }\n",
       "    .sent-bar {\n",
       "        position:absolute; bottom:15px; width:24px; border:1px solid #bbb; border-radius:4px 4px 0 0; text-align:center; color:#000; font-size:15px;\n",
       "    }\n",
       "    .sent-bar-line {\n",
       "        position:absolute; bottom:15px; left:5px; width:90px;margin:0 auto; height:1px; background:#999;\n",
       "    }\n",
       "    .sent-bar-pos { background:rgb(0,200,0);}\n",
       "    .sent-bar-neu { background:rgb(255,255,255);}\n",
       "    .sent-bar-neg { background:rgb(200,0,0);}\n",
       "    .sent-bar span:first-child {\n",
       "        position:absolute; bottom:-14px; left:0; width:100%; text-align:center; font-size:12px;\n",
       "    }\n",
       "    .sent-bars-title, .sent-compound-title {\n",
       "        position:absolute; width:100%; font-weight:bold; top:-15px; left:0; font-size:12px;\n",
       "    }\n",
       "    .sent-compound {\n",
       "        display:inline-block; vertical-align:top;border:1px solid #ccc;border-radius:5px;margin-top:20px; position:relative;\n",
       "        width:100px; height:100px; font-size:14px; font-weight:bold; margin-bottom:40px;\n",
       "    }\n",
       "    .sent-compound span {\n",
       "    color:#000; \n",
       "    display:inline-block;\n",
       "    line-height:100px;\n",
       "    width:100px;\n",
       "    text-align:center; \n",
       "    }\n",
       "\n",
       "    .text-wrapper {\n",
       "        font-size: 14px;width:100%;max-width:800px;overflow-wrap:anywhere;line-height:1.5;\n",
       "    }\n",
       "    span.ttppee {font-style:italic;}\n",
       "\n",
       "    span.icon {font-size:12px;}\n",
       "    </style>\n",
       "    <div class='text-wrapper'><span class='sent-word' style='background-color:rgb(255,255,255);' title='score: 0 '>Your</span> <span class='sent-word' style='background-color:rgb(255,255,255);' title='score: 0 '>example</span> <span class='sent-word' style='background-color:rgb(255,255,255);' title='score: 0 '>here</span></div>"
      ],
      "text/plain": [
       "<IPython.core.display.HTML object>"
      ]
     },
     "metadata": {},
     "output_type": "display_data"
    },
    {
     "data": {
      "text/html": [
       "\n",
       "    <div>\n",
       "        \n",
       "    <div class='sent-compound' style='background:rgb(255,255,255);'>\n",
       "        <div class='sent-compound-title'>Compound</div>\n",
       "        <span>0.000</span>\n",
       "    </div>\n",
       "     \n",
       "        \n",
       "    <div class='sent-bars'>\n",
       "        <div class='sent-bars-title'>Proportions</div>\n",
       "        <div class='sent-bar sent-bar-pos' style='height:0px; left:8px;' title='neg proportion: 0.000'><span>pos</span></div>\n",
       "        <div class='sent-bar sent-bar-neu' style='height:80px; left:38px;' title='neg proportion: 1.000'><span>neu</span></div>\n",
       "        <div class='sent-bar sent-bar-neg' style='height:0px; left:68px;' title='neg proportion: 0.000'><span>neg</span></div>\n",
       "        <div class='sent-bar-line'></div>\n",
       "    </div>\n",
       "    \n",
       "    </div>\n",
       "    "
      ],
      "text/plain": [
       "<IPython.core.display.HTML object>"
      ]
     },
     "metadata": {},
     "output_type": "display_data"
    }
   ],
   "source": [
    "examples = [\n",
    "    # from movie review (cv064_25842.txt)\n",
    "    'all this leads to a finale that is so dumb , and so stupid that is it unbelievably dumb, and the stunts, dialogue and acting all ruin this movie',\n",
    "    'Your example here',\n",
    "]\n",
    "\n",
    "print('Hint: Hover your mouse over specific words or the bar chart to see more information.  ')\n",
    "\n",
    "for example in examples:\n",
    "    interpreter.explain(example)"
   ]
  },
  {
   "cell_type": "markdown",
   "metadata": {},
   "source": [
    "### Choice of words\n",
    "\n",
    "A word-level scoring tool like VADER allows us to see examples where individual word choices do not add up straightforwardly to accurate sentiment scores. In each of the examples below, the combination of words and what is unsaid leads to sentiment predictions that do not match the sentiment expressed in the text. There are also words that can be used to express sentiment in positive *and* negative ways (e.g. \"That's sick!\", \"That's mean!\")."
   ]
  },
  {
   "cell_type": "code",
   "execution_count": 80,
   "metadata": {},
   "outputs": [
    {
     "name": "stdout",
     "output_type": "stream",
     "text": [
      "Hint: Hover your mouse over specific words or the bar chart to see more information.  \n"
     ]
    },
    {
     "data": {
      "text/html": [
       "\n",
       "    <style>\n",
       "    .sent-word {\n",
       "        color: #000;\n",
       "        padding: 2px;\n",
       "        border-radius: 3px;\n",
       "        font-size: 14px;\n",
       "        margin-left: 0px;\n",
       "        margin-bottom: 5px;\n",
       "        white-space: nowrap;\n",
       "        overflow-wrap: normal;\n",
       "        word-break: normal;\n",
       "        border: 1px solid #ccc;\n",
       "        display: inline-block;\n",
       "    }\n",
       "    .sent-bars {\n",
       "        margin-top:20px; margin-bottom:40px; background:#fff; border-radius:5px; width:100px; height:100px; display:inline-block; position:relative; vertical-align:top;border:1px solid #ccc;\n",
       "    }\n",
       "    .sent-bar {\n",
       "        position:absolute; bottom:15px; width:24px; border:1px solid #bbb; border-radius:4px 4px 0 0; text-align:center; color:#000; font-size:15px;\n",
       "    }\n",
       "    .sent-bar-line {\n",
       "        position:absolute; bottom:15px; left:5px; width:90px;margin:0 auto; height:1px; background:#999;\n",
       "    }\n",
       "    .sent-bar-pos { background:rgb(0,200,0);}\n",
       "    .sent-bar-neu { background:rgb(255,255,255);}\n",
       "    .sent-bar-neg { background:rgb(200,0,0);}\n",
       "    .sent-bar span:first-child {\n",
       "        position:absolute; bottom:-14px; left:0; width:100%; text-align:center; font-size:12px;\n",
       "    }\n",
       "    .sent-bars-title, .sent-compound-title {\n",
       "        position:absolute; width:100%; font-weight:bold; top:-15px; left:0; font-size:12px;\n",
       "    }\n",
       "    .sent-compound {\n",
       "        display:inline-block; vertical-align:top;border:1px solid #ccc;border-radius:5px;margin-top:20px; position:relative;\n",
       "        width:100px; height:100px; font-size:14px; font-weight:bold; margin-bottom:40px;\n",
       "    }\n",
       "    .sent-compound span {\n",
       "    color:#000; \n",
       "    display:inline-block;\n",
       "    line-height:100px;\n",
       "    width:100px;\n",
       "    text-align:center; \n",
       "    }\n",
       "\n",
       "    .text-wrapper {\n",
       "        font-size: 14px;width:100%;max-width:800px;overflow-wrap:anywhere;line-height:1.5;\n",
       "    }\n",
       "    span.ttppee {font-style:italic;}\n",
       "\n",
       "    span.icon {font-size:12px;}\n",
       "    </style>\n",
       "    <div class='text-wrapper'><span class='sent-word' style='background-color:rgb(255,255,255);' title='score: 0 '>I</span> <span class='sent-word' style='background-color:rgb(255,255,255);' title='score: 0 '>was</span> really <span class='sent-word' style='background-color:rgb(108,255,108);' title='score: 2.293 boosted'>⬆️glad</span> <span class='sent-word' style='background-color:rgb(255,255,255);' title='score: 0 '>when</span> <span class='sent-word' style='background-color:rgb(255,255,255);' title='score: 0 '>this</span> <span class='sent-word' style='background-color:rgb(255,255,255);' title='score: 0 '>movie</span> <span class='sent-word' style='background-color:rgb(255,255,255);' title='score: 0 '>was</span> <span class='sent-word' style='background-color:rgb(255,255,255);' title='score: 0 '>over</span></div>"
      ],
      "text/plain": [
       "<IPython.core.display.HTML object>"
      ]
     },
     "metadata": {},
     "output_type": "display_data"
    },
    {
     "data": {
      "text/html": [
       "\n",
       "    <div>\n",
       "        \n",
       "    <div class='sent-compound' style='background:rgb(125,255,125);'>\n",
       "        <div class='sent-compound-title'>Compound</div>\n",
       "        <span>0.509</span>\n",
       "    </div>\n",
       "     \n",
       "        \n",
       "    <div class='sent-bars'>\n",
       "        <div class='sent-bars-title'>Proportions</div>\n",
       "        <div class='sent-bar sent-bar-pos' style='height:23px; left:8px;' title='neg proportion: 0.292'><span>pos</span></div>\n",
       "        <div class='sent-bar sent-bar-neu' style='height:56px; left:38px;' title='neg proportion: 0.708'><span>neu</span></div>\n",
       "        <div class='sent-bar sent-bar-neg' style='height:0px; left:68px;' title='neg proportion: 0.000'><span>neg</span></div>\n",
       "        <div class='sent-bar-line'></div>\n",
       "    </div>\n",
       "    \n",
       "    </div>\n",
       "    "
      ],
      "text/plain": [
       "<IPython.core.display.HTML object>"
      ]
     },
     "metadata": {},
     "output_type": "display_data"
    },
    {
     "data": {
      "text/html": [
       "\n",
       "    <style>\n",
       "    .sent-word {\n",
       "        color: #000;\n",
       "        padding: 2px;\n",
       "        border-radius: 3px;\n",
       "        font-size: 14px;\n",
       "        margin-left: 0px;\n",
       "        margin-bottom: 5px;\n",
       "        white-space: nowrap;\n",
       "        overflow-wrap: normal;\n",
       "        word-break: normal;\n",
       "        border: 1px solid #ccc;\n",
       "        display: inline-block;\n",
       "    }\n",
       "    .sent-bars {\n",
       "        margin-top:20px; margin-bottom:40px; background:#fff; border-radius:5px; width:100px; height:100px; display:inline-block; position:relative; vertical-align:top;border:1px solid #ccc;\n",
       "    }\n",
       "    .sent-bar {\n",
       "        position:absolute; bottom:15px; width:24px; border:1px solid #bbb; border-radius:4px 4px 0 0; text-align:center; color:#000; font-size:15px;\n",
       "    }\n",
       "    .sent-bar-line {\n",
       "        position:absolute; bottom:15px; left:5px; width:90px;margin:0 auto; height:1px; background:#999;\n",
       "    }\n",
       "    .sent-bar-pos { background:rgb(0,200,0);}\n",
       "    .sent-bar-neu { background:rgb(255,255,255);}\n",
       "    .sent-bar-neg { background:rgb(200,0,0);}\n",
       "    .sent-bar span:first-child {\n",
       "        position:absolute; bottom:-14px; left:0; width:100%; text-align:center; font-size:12px;\n",
       "    }\n",
       "    .sent-bars-title, .sent-compound-title {\n",
       "        position:absolute; width:100%; font-weight:bold; top:-15px; left:0; font-size:12px;\n",
       "    }\n",
       "    .sent-compound {\n",
       "        display:inline-block; vertical-align:top;border:1px solid #ccc;border-radius:5px;margin-top:20px; position:relative;\n",
       "        width:100px; height:100px; font-size:14px; font-weight:bold; margin-bottom:40px;\n",
       "    }\n",
       "    .sent-compound span {\n",
       "    color:#000; \n",
       "    display:inline-block;\n",
       "    line-height:100px;\n",
       "    width:100px;\n",
       "    text-align:center; \n",
       "    }\n",
       "\n",
       "    .text-wrapper {\n",
       "        font-size: 14px;width:100%;max-width:800px;overflow-wrap:anywhere;line-height:1.5;\n",
       "    }\n",
       "    span.ttppee {font-style:italic;}\n",
       "\n",
       "    span.icon {font-size:12px;}\n",
       "    </style>\n",
       "    <div class='text-wrapper'><span class='sent-word' style='background-color:rgb(255,255,255);' title='score: 0 '>The</span> <span class='sent-word' style='background-color:rgb(255,255,255);' title='score: 0 '>service</span> <span class='sent-word' style='background-color:rgb(255,255,255);' title='score: 0 '>was</span> <span class='sent-word' style='background-color:rgb(255,255,255);' title='score: 0 '>a</span> <span class='sent-word' style='background-color:rgb(178,255,178);' title='score: 1.2 '>joke</span></div>"
      ],
      "text/plain": [
       "<IPython.core.display.HTML object>"
      ]
     },
     "metadata": {},
     "output_type": "display_data"
    },
    {
     "data": {
      "text/html": [
       "\n",
       "    <div>\n",
       "        \n",
       "    <div class='sent-compound' style='background:rgb(179,255,179);'>\n",
       "        <div class='sent-compound-title'>Compound</div>\n",
       "        <span>0.296</span>\n",
       "    </div>\n",
       "     \n",
       "        \n",
       "    <div class='sent-bars'>\n",
       "        <div class='sent-bars-title'>Proportions</div>\n",
       "        <div class='sent-bar sent-bar-pos' style='height:28px; left:8px;' title='neg proportion: 0.355'><span>pos</span></div>\n",
       "        <div class='sent-bar sent-bar-neu' style='height:51px; left:38px;' title='neg proportion: 0.645'><span>neu</span></div>\n",
       "        <div class='sent-bar sent-bar-neg' style='height:0px; left:68px;' title='neg proportion: 0.000'><span>neg</span></div>\n",
       "        <div class='sent-bar-line'></div>\n",
       "    </div>\n",
       "    \n",
       "    </div>\n",
       "    "
      ],
      "text/plain": [
       "<IPython.core.display.HTML object>"
      ]
     },
     "metadata": {},
     "output_type": "display_data"
    },
    {
     "data": {
      "text/html": [
       "\n",
       "    <style>\n",
       "    .sent-word {\n",
       "        color: #000;\n",
       "        padding: 2px;\n",
       "        border-radius: 3px;\n",
       "        font-size: 14px;\n",
       "        margin-left: 0px;\n",
       "        margin-bottom: 5px;\n",
       "        white-space: nowrap;\n",
       "        overflow-wrap: normal;\n",
       "        word-break: normal;\n",
       "        border: 1px solid #ccc;\n",
       "        display: inline-block;\n",
       "    }\n",
       "    .sent-bars {\n",
       "        margin-top:20px; margin-bottom:40px; background:#fff; border-radius:5px; width:100px; height:100px; display:inline-block; position:relative; vertical-align:top;border:1px solid #ccc;\n",
       "    }\n",
       "    .sent-bar {\n",
       "        position:absolute; bottom:15px; width:24px; border:1px solid #bbb; border-radius:4px 4px 0 0; text-align:center; color:#000; font-size:15px;\n",
       "    }\n",
       "    .sent-bar-line {\n",
       "        position:absolute; bottom:15px; left:5px; width:90px;margin:0 auto; height:1px; background:#999;\n",
       "    }\n",
       "    .sent-bar-pos { background:rgb(0,200,0);}\n",
       "    .sent-bar-neu { background:rgb(255,255,255);}\n",
       "    .sent-bar-neg { background:rgb(200,0,0);}\n",
       "    .sent-bar span:first-child {\n",
       "        position:absolute; bottom:-14px; left:0; width:100%; text-align:center; font-size:12px;\n",
       "    }\n",
       "    .sent-bars-title, .sent-compound-title {\n",
       "        position:absolute; width:100%; font-weight:bold; top:-15px; left:0; font-size:12px;\n",
       "    }\n",
       "    .sent-compound {\n",
       "        display:inline-block; vertical-align:top;border:1px solid #ccc;border-radius:5px;margin-top:20px; position:relative;\n",
       "        width:100px; height:100px; font-size:14px; font-weight:bold; margin-bottom:40px;\n",
       "    }\n",
       "    .sent-compound span {\n",
       "    color:#000; \n",
       "    display:inline-block;\n",
       "    line-height:100px;\n",
       "    width:100px;\n",
       "    text-align:center; \n",
       "    }\n",
       "\n",
       "    .text-wrapper {\n",
       "        font-size: 14px;width:100%;max-width:800px;overflow-wrap:anywhere;line-height:1.5;\n",
       "    }\n",
       "    span.ttppee {font-style:italic;}\n",
       "\n",
       "    span.icon {font-size:12px;}\n",
       "    </style>\n",
       "    <div class='text-wrapper'><span class='sent-word' style='background-color:rgb(255,255,255);' title='score: 0 '>He</span> <span class='sent-word' style='background-color:rgb(255,255,255);' title='score: 0 '>has</span> <span class='sent-word' style='background-color:rgb(255,255,255);' title='score: 0 '>an</span> <span class='sent-word' style='background-color:rgb(255,255,255);' title='score: 0 '>attitude</span></div>"
      ],
      "text/plain": [
       "<IPython.core.display.HTML object>"
      ]
     },
     "metadata": {},
     "output_type": "display_data"
    },
    {
     "data": {
      "text/html": [
       "\n",
       "    <div>\n",
       "        \n",
       "    <div class='sent-compound' style='background:rgb(255,255,255);'>\n",
       "        <div class='sent-compound-title'>Compound</div>\n",
       "        <span>0.000</span>\n",
       "    </div>\n",
       "     \n",
       "        \n",
       "    <div class='sent-bars'>\n",
       "        <div class='sent-bars-title'>Proportions</div>\n",
       "        <div class='sent-bar sent-bar-pos' style='height:0px; left:8px;' title='neg proportion: 0.000'><span>pos</span></div>\n",
       "        <div class='sent-bar sent-bar-neu' style='height:80px; left:38px;' title='neg proportion: 1.000'><span>neu</span></div>\n",
       "        <div class='sent-bar sent-bar-neg' style='height:0px; left:68px;' title='neg proportion: 0.000'><span>neg</span></div>\n",
       "        <div class='sent-bar-line'></div>\n",
       "    </div>\n",
       "    \n",
       "    </div>\n",
       "    "
      ],
      "text/plain": [
       "<IPython.core.display.HTML object>"
      ]
     },
     "metadata": {},
     "output_type": "display_data"
    },
    {
     "data": {
      "text/html": [
       "\n",
       "    <style>\n",
       "    .sent-word {\n",
       "        color: #000;\n",
       "        padding: 2px;\n",
       "        border-radius: 3px;\n",
       "        font-size: 14px;\n",
       "        margin-left: 0px;\n",
       "        margin-bottom: 5px;\n",
       "        white-space: nowrap;\n",
       "        overflow-wrap: normal;\n",
       "        word-break: normal;\n",
       "        border: 1px solid #ccc;\n",
       "        display: inline-block;\n",
       "    }\n",
       "    .sent-bars {\n",
       "        margin-top:20px; margin-bottom:40px; background:#fff; border-radius:5px; width:100px; height:100px; display:inline-block; position:relative; vertical-align:top;border:1px solid #ccc;\n",
       "    }\n",
       "    .sent-bar {\n",
       "        position:absolute; bottom:15px; width:24px; border:1px solid #bbb; border-radius:4px 4px 0 0; text-align:center; color:#000; font-size:15px;\n",
       "    }\n",
       "    .sent-bar-line {\n",
       "        position:absolute; bottom:15px; left:5px; width:90px;margin:0 auto; height:1px; background:#999;\n",
       "    }\n",
       "    .sent-bar-pos { background:rgb(0,200,0);}\n",
       "    .sent-bar-neu { background:rgb(255,255,255);}\n",
       "    .sent-bar-neg { background:rgb(200,0,0);}\n",
       "    .sent-bar span:first-child {\n",
       "        position:absolute; bottom:-14px; left:0; width:100%; text-align:center; font-size:12px;\n",
       "    }\n",
       "    .sent-bars-title, .sent-compound-title {\n",
       "        position:absolute; width:100%; font-weight:bold; top:-15px; left:0; font-size:12px;\n",
       "    }\n",
       "    .sent-compound {\n",
       "        display:inline-block; vertical-align:top;border:1px solid #ccc;border-radius:5px;margin-top:20px; position:relative;\n",
       "        width:100px; height:100px; font-size:14px; font-weight:bold; margin-bottom:40px;\n",
       "    }\n",
       "    .sent-compound span {\n",
       "    color:#000; \n",
       "    display:inline-block;\n",
       "    line-height:100px;\n",
       "    width:100px;\n",
       "    text-align:center; \n",
       "    }\n",
       "\n",
       "    .text-wrapper {\n",
       "        font-size: 14px;width:100%;max-width:800px;overflow-wrap:anywhere;line-height:1.5;\n",
       "    }\n",
       "    span.ttppee {font-style:italic;}\n",
       "\n",
       "    span.icon {font-size:12px;}\n",
       "    </style>\n",
       "    <div class='text-wrapper'><span class='sent-word' style='background-color:rgb(255,255,255);' title='score: 0 '>Your</span> <span class='sent-word' style='background-color:rgb(255,255,255);' title='score: 0 '>example</span> <span class='sent-word' style='background-color:rgb(255,255,255);' title='score: 0 '>here</span></div>"
      ],
      "text/plain": [
       "<IPython.core.display.HTML object>"
      ]
     },
     "metadata": {},
     "output_type": "display_data"
    },
    {
     "data": {
      "text/html": [
       "\n",
       "    <div>\n",
       "        \n",
       "    <div class='sent-compound' style='background:rgb(255,255,255);'>\n",
       "        <div class='sent-compound-title'>Compound</div>\n",
       "        <span>0.000</span>\n",
       "    </div>\n",
       "     \n",
       "        \n",
       "    <div class='sent-bars'>\n",
       "        <div class='sent-bars-title'>Proportions</div>\n",
       "        <div class='sent-bar sent-bar-pos' style='height:0px; left:8px;' title='neg proportion: 0.000'><span>pos</span></div>\n",
       "        <div class='sent-bar sent-bar-neu' style='height:80px; left:38px;' title='neg proportion: 1.000'><span>neu</span></div>\n",
       "        <div class='sent-bar sent-bar-neg' style='height:0px; left:68px;' title='neg proportion: 0.000'><span>neg</span></div>\n",
       "        <div class='sent-bar-line'></div>\n",
       "    </div>\n",
       "    \n",
       "    </div>\n",
       "    "
      ],
      "text/plain": [
       "<IPython.core.display.HTML object>"
      ]
     },
     "metadata": {},
     "output_type": "display_data"
    }
   ],
   "source": [
    "examples = [\n",
    "    'I was really glad when this movie was over', # relies on understanding that wishing for the end of a movie (\"over\") is not a good thing\n",
    "    'The service was a joke', # jokes are usually something fun, but the alignment of service and joke here expresses \n",
    "    'He has an attitude', # \"an attitude\" is a way to express \"a bad attitude\"\n",
    "    'Your example here',\n",
    "]\n",
    "\n",
    "print('Hint: Hover your mouse over specific words or the bar chart to see more information.  ')\n",
    "\n",
    "for example in examples:\n",
    "    interpreter.explain(example)"
   ]
  },
  {
   "cell_type": "markdown",
   "metadata": {},
   "source": [
    "### Sarcasm"
   ]
  },
  {
   "cell_type": "code",
   "execution_count": 81,
   "metadata": {},
   "outputs": [
    {
     "name": "stdout",
     "output_type": "stream",
     "text": [
      "Hint: Hover your mouse over specific words or the bar chart to see more information.  \n"
     ]
    },
    {
     "data": {
      "text/html": [
       "\n",
       "    <style>\n",
       "    .sent-word {\n",
       "        color: #000;\n",
       "        padding: 2px;\n",
       "        border-radius: 3px;\n",
       "        font-size: 14px;\n",
       "        margin-left: 0px;\n",
       "        margin-bottom: 5px;\n",
       "        white-space: nowrap;\n",
       "        overflow-wrap: normal;\n",
       "        word-break: normal;\n",
       "        border: 1px solid #ccc;\n",
       "        display: inline-block;\n",
       "    }\n",
       "    .sent-bars {\n",
       "        margin-top:20px; margin-bottom:40px; background:#fff; border-radius:5px; width:100px; height:100px; display:inline-block; position:relative; vertical-align:top;border:1px solid #ccc;\n",
       "    }\n",
       "    .sent-bar {\n",
       "        position:absolute; bottom:15px; width:24px; border:1px solid #bbb; border-radius:4px 4px 0 0; text-align:center; color:#000; font-size:15px;\n",
       "    }\n",
       "    .sent-bar-line {\n",
       "        position:absolute; bottom:15px; left:5px; width:90px;margin:0 auto; height:1px; background:#999;\n",
       "    }\n",
       "    .sent-bar-pos { background:rgb(0,200,0);}\n",
       "    .sent-bar-neu { background:rgb(255,255,255);}\n",
       "    .sent-bar-neg { background:rgb(200,0,0);}\n",
       "    .sent-bar span:first-child {\n",
       "        position:absolute; bottom:-14px; left:0; width:100%; text-align:center; font-size:12px;\n",
       "    }\n",
       "    .sent-bars-title, .sent-compound-title {\n",
       "        position:absolute; width:100%; font-weight:bold; top:-15px; left:0; font-size:12px;\n",
       "    }\n",
       "    .sent-compound {\n",
       "        display:inline-block; vertical-align:top;border:1px solid #ccc;border-radius:5px;margin-top:20px; position:relative;\n",
       "        width:100px; height:100px; font-size:14px; font-weight:bold; margin-bottom:40px;\n",
       "    }\n",
       "    .sent-compound span {\n",
       "    color:#000; \n",
       "    display:inline-block;\n",
       "    line-height:100px;\n",
       "    width:100px;\n",
       "    text-align:center; \n",
       "    }\n",
       "\n",
       "    .text-wrapper {\n",
       "        font-size: 14px;width:100%;max-width:800px;overflow-wrap:anywhere;line-height:1.5;\n",
       "    }\n",
       "    span.ttppee {font-style:italic;}\n",
       "\n",
       "    span.icon {font-size:12px;}\n",
       "    </style>\n",
       "    <div class='text-wrapper'><span class='sent-word' style='background-color:rgb(255,255,255);' title='score: 0 '>The</span> <span class='sent-word' style='background-color:rgb(255,255,255);' title='score: 0 '>bathroom</span> <span class='sent-word' style='background-color:rgb(255,255,255);' title='score: 0 '>was</span> <span class='sent-word' style='background-color:rgb(255,255,255);' title='score: 0 '>a</span> <span class='sent-word' style='background-color:rgb(255,255,255);' title='score: 0 '>sight</span> <span class='sent-word' style='background-color:rgb(255,255,255);' title='score: 0 '>to</span> <span class='sent-word' style='background-color:rgb(255,255,255);' title='score: 0 '>behold</span>, <span class='sent-word' style='background-color:rgb(255,255,255);' title='score: 0 '>I</span> <span class='sent-word' style='background-color:rgb(70,255,70);' title='score: 2.9 '>loved</span> <span class='sent-word' style='background-color:rgb(255,255,255);' title='score: 0 '>the</span> <span class='sent-word' style='background-color:rgb(255,255,255);' title='score: 0 '>moldy</span> <span class='sent-word' style='background-color:rgb(255,255,255);' title='score: 0 '>sink</span></div>"
      ],
      "text/plain": [
       "<IPython.core.display.HTML object>"
      ]
     },
     "metadata": {},
     "output_type": "display_data"
    },
    {
     "data": {
      "text/html": [
       "\n",
       "    <div>\n",
       "        \n",
       "    <div class='sent-compound' style='background:rgb(102,255,102);'>\n",
       "        <div class='sent-compound-title'>Compound</div>\n",
       "        <span>0.599</span>\n",
       "    </div>\n",
       "     \n",
       "        \n",
       "    <div class='sent-bars'>\n",
       "        <div class='sent-bars-title'>Proportions</div>\n",
       "        <div class='sent-bar sent-bar-pos' style='height:20px; left:8px;' title='neg proportion: 0.262'><span>pos</span></div>\n",
       "        <div class='sent-bar sent-bar-neu' style='height:59px; left:38px;' title='neg proportion: 0.738'><span>neu</span></div>\n",
       "        <div class='sent-bar sent-bar-neg' style='height:0px; left:68px;' title='neg proportion: 0.000'><span>neg</span></div>\n",
       "        <div class='sent-bar-line'></div>\n",
       "    </div>\n",
       "    \n",
       "    </div>\n",
       "    "
      ],
      "text/plain": [
       "<IPython.core.display.HTML object>"
      ]
     },
     "metadata": {},
     "output_type": "display_data"
    },
    {
     "data": {
      "text/html": [
       "\n",
       "    <style>\n",
       "    .sent-word {\n",
       "        color: #000;\n",
       "        padding: 2px;\n",
       "        border-radius: 3px;\n",
       "        font-size: 14px;\n",
       "        margin-left: 0px;\n",
       "        margin-bottom: 5px;\n",
       "        white-space: nowrap;\n",
       "        overflow-wrap: normal;\n",
       "        word-break: normal;\n",
       "        border: 1px solid #ccc;\n",
       "        display: inline-block;\n",
       "    }\n",
       "    .sent-bars {\n",
       "        margin-top:20px; margin-bottom:40px; background:#fff; border-radius:5px; width:100px; height:100px; display:inline-block; position:relative; vertical-align:top;border:1px solid #ccc;\n",
       "    }\n",
       "    .sent-bar {\n",
       "        position:absolute; bottom:15px; width:24px; border:1px solid #bbb; border-radius:4px 4px 0 0; text-align:center; color:#000; font-size:15px;\n",
       "    }\n",
       "    .sent-bar-line {\n",
       "        position:absolute; bottom:15px; left:5px; width:90px;margin:0 auto; height:1px; background:#999;\n",
       "    }\n",
       "    .sent-bar-pos { background:rgb(0,200,0);}\n",
       "    .sent-bar-neu { background:rgb(255,255,255);}\n",
       "    .sent-bar-neg { background:rgb(200,0,0);}\n",
       "    .sent-bar span:first-child {\n",
       "        position:absolute; bottom:-14px; left:0; width:100%; text-align:center; font-size:12px;\n",
       "    }\n",
       "    .sent-bars-title, .sent-compound-title {\n",
       "        position:absolute; width:100%; font-weight:bold; top:-15px; left:0; font-size:12px;\n",
       "    }\n",
       "    .sent-compound {\n",
       "        display:inline-block; vertical-align:top;border:1px solid #ccc;border-radius:5px;margin-top:20px; position:relative;\n",
       "        width:100px; height:100px; font-size:14px; font-weight:bold; margin-bottom:40px;\n",
       "    }\n",
       "    .sent-compound span {\n",
       "    color:#000; \n",
       "    display:inline-block;\n",
       "    line-height:100px;\n",
       "    width:100px;\n",
       "    text-align:center; \n",
       "    }\n",
       "\n",
       "    .text-wrapper {\n",
       "        font-size: 14px;width:100%;max-width:800px;overflow-wrap:anywhere;line-height:1.5;\n",
       "    }\n",
       "    span.ttppee {font-style:italic;}\n",
       "\n",
       "    span.icon {font-size:12px;}\n",
       "    </style>\n",
       "    <div class='text-wrapper'><span class='sent-word' style='background-color:rgb(255,255,255);' title='score: 0 '>Your</span> <span class='sent-word' style='background-color:rgb(255,255,255);' title='score: 0 '>example</span> <span class='sent-word' style='background-color:rgb(255,255,255);' title='score: 0 '>here</span></div>"
      ],
      "text/plain": [
       "<IPython.core.display.HTML object>"
      ]
     },
     "metadata": {},
     "output_type": "display_data"
    },
    {
     "data": {
      "text/html": [
       "\n",
       "    <div>\n",
       "        \n",
       "    <div class='sent-compound' style='background:rgb(255,255,255);'>\n",
       "        <div class='sent-compound-title'>Compound</div>\n",
       "        <span>0.000</span>\n",
       "    </div>\n",
       "     \n",
       "        \n",
       "    <div class='sent-bars'>\n",
       "        <div class='sent-bars-title'>Proportions</div>\n",
       "        <div class='sent-bar sent-bar-pos' style='height:0px; left:8px;' title='neg proportion: 0.000'><span>pos</span></div>\n",
       "        <div class='sent-bar sent-bar-neu' style='height:80px; left:38px;' title='neg proportion: 1.000'><span>neu</span></div>\n",
       "        <div class='sent-bar sent-bar-neg' style='height:0px; left:68px;' title='neg proportion: 0.000'><span>neg</span></div>\n",
       "        <div class='sent-bar-line'></div>\n",
       "    </div>\n",
       "    \n",
       "    </div>\n",
       "    "
      ],
      "text/plain": [
       "<IPython.core.display.HTML object>"
      ]
     },
     "metadata": {},
     "output_type": "display_data"
    }
   ],
   "source": [
    "examples = [\n",
    "    'The bathroom was a sight to behold, I loved the moldy sink', \n",
    "    'Your example here',\n",
    "]\n",
    "\n",
    "print('Hint: Hover your mouse over specific words or the bar chart to see more information.  ')\n",
    "\n",
    "for example in examples:\n",
    "    interpreter.explain(example)"
   ]
  },
  {
   "cell_type": "markdown",
   "metadata": {},
   "source": [
    "### Inversion"
   ]
  },
  {
   "cell_type": "code",
   "execution_count": 82,
   "metadata": {},
   "outputs": [
    {
     "name": "stdout",
     "output_type": "stream",
     "text": [
      "Hint: Hover your mouse over specific words or the bar chart to see more information.  \n"
     ]
    },
    {
     "data": {
      "text/html": [
       "\n",
       "    <style>\n",
       "    .sent-word {\n",
       "        color: #000;\n",
       "        padding: 2px;\n",
       "        border-radius: 3px;\n",
       "        font-size: 14px;\n",
       "        margin-left: 0px;\n",
       "        margin-bottom: 5px;\n",
       "        white-space: nowrap;\n",
       "        overflow-wrap: normal;\n",
       "        word-break: normal;\n",
       "        border: 1px solid #ccc;\n",
       "        display: inline-block;\n",
       "    }\n",
       "    .sent-bars {\n",
       "        margin-top:20px; margin-bottom:40px; background:#fff; border-radius:5px; width:100px; height:100px; display:inline-block; position:relative; vertical-align:top;border:1px solid #ccc;\n",
       "    }\n",
       "    .sent-bar {\n",
       "        position:absolute; bottom:15px; width:24px; border:1px solid #bbb; border-radius:4px 4px 0 0; text-align:center; color:#000; font-size:15px;\n",
       "    }\n",
       "    .sent-bar-line {\n",
       "        position:absolute; bottom:15px; left:5px; width:90px;margin:0 auto; height:1px; background:#999;\n",
       "    }\n",
       "    .sent-bar-pos { background:rgb(0,200,0);}\n",
       "    .sent-bar-neu { background:rgb(255,255,255);}\n",
       "    .sent-bar-neg { background:rgb(200,0,0);}\n",
       "    .sent-bar span:first-child {\n",
       "        position:absolute; bottom:-14px; left:0; width:100%; text-align:center; font-size:12px;\n",
       "    }\n",
       "    .sent-bars-title, .sent-compound-title {\n",
       "        position:absolute; width:100%; font-weight:bold; top:-15px; left:0; font-size:12px;\n",
       "    }\n",
       "    .sent-compound {\n",
       "        display:inline-block; vertical-align:top;border:1px solid #ccc;border-radius:5px;margin-top:20px; position:relative;\n",
       "        width:100px; height:100px; font-size:14px; font-weight:bold; margin-bottom:40px;\n",
       "    }\n",
       "    .sent-compound span {\n",
       "    color:#000; \n",
       "    display:inline-block;\n",
       "    line-height:100px;\n",
       "    width:100px;\n",
       "    text-align:center; \n",
       "    }\n",
       "\n",
       "    .text-wrapper {\n",
       "        font-size: 14px;width:100%;max-width:800px;overflow-wrap:anywhere;line-height:1.5;\n",
       "    }\n",
       "    span.ttppee {font-style:italic;}\n",
       "\n",
       "    span.icon {font-size:12px;}\n",
       "    </style>\n",
       "    <div class='text-wrapper'><span class='sent-word' style='background-color:rgb(255,255,255);' title='score: 0 '>I</span> <span class='sent-word' style='background-color:rgb(255,255,255);' title='score: 0 '>had</span> <span class='sent-word' style='background-color:rgb(255,255,255);' title='score: 0.0 negated'>⛔no</span> <span class='sent-word' style='background-color:rgb(174,255,174);' title='score: 1.258 negated'>⛔problems</span> <span class='sent-word' style='background-color:rgb(255,255,255);' title='score: 0 '>with</span> <span class='sent-word' style='background-color:rgb(255,255,255);' title='score: 0 '>this</span> <span class='sent-word' style='background-color:rgb(255,255,255);' title='score: 0 '>phone</span></div>"
      ],
      "text/plain": [
       "<IPython.core.display.HTML object>"
      ]
     },
     "metadata": {},
     "output_type": "display_data"
    },
    {
     "data": {
      "text/html": [
       "\n",
       "    <div>\n",
       "        \n",
       "    <div class='sent-compound' style='background:rgb(176,255,176);'>\n",
       "        <div class='sent-compound-title'>Compound</div>\n",
       "        <span>0.309</span>\n",
       "    </div>\n",
       "     \n",
       "        \n",
       "    <div class='sent-bars'>\n",
       "        <div class='sent-bars-title'>Proportions</div>\n",
       "        <div class='sent-bar sent-bar-pos' style='height:21px; left:8px;' title='neg proportion: 0.273'><span>pos</span></div>\n",
       "        <div class='sent-bar sent-bar-neu' style='height:58px; left:38px;' title='neg proportion: 0.727'><span>neu</span></div>\n",
       "        <div class='sent-bar sent-bar-neg' style='height:0px; left:68px;' title='neg proportion: 0.000'><span>neg</span></div>\n",
       "        <div class='sent-bar-line'></div>\n",
       "    </div>\n",
       "    \n",
       "    </div>\n",
       "    "
      ],
      "text/plain": [
       "<IPython.core.display.HTML object>"
      ]
     },
     "metadata": {},
     "output_type": "display_data"
    },
    {
     "data": {
      "text/html": [
       "\n",
       "    <style>\n",
       "    .sent-word {\n",
       "        color: #000;\n",
       "        padding: 2px;\n",
       "        border-radius: 3px;\n",
       "        font-size: 14px;\n",
       "        margin-left: 0px;\n",
       "        margin-bottom: 5px;\n",
       "        white-space: nowrap;\n",
       "        overflow-wrap: normal;\n",
       "        word-break: normal;\n",
       "        border: 1px solid #ccc;\n",
       "        display: inline-block;\n",
       "    }\n",
       "    .sent-bars {\n",
       "        margin-top:20px; margin-bottom:40px; background:#fff; border-radius:5px; width:100px; height:100px; display:inline-block; position:relative; vertical-align:top;border:1px solid #ccc;\n",
       "    }\n",
       "    .sent-bar {\n",
       "        position:absolute; bottom:15px; width:24px; border:1px solid #bbb; border-radius:4px 4px 0 0; text-align:center; color:#000; font-size:15px;\n",
       "    }\n",
       "    .sent-bar-line {\n",
       "        position:absolute; bottom:15px; left:5px; width:90px;margin:0 auto; height:1px; background:#999;\n",
       "    }\n",
       "    .sent-bar-pos { background:rgb(0,200,0);}\n",
       "    .sent-bar-neu { background:rgb(255,255,255);}\n",
       "    .sent-bar-neg { background:rgb(200,0,0);}\n",
       "    .sent-bar span:first-child {\n",
       "        position:absolute; bottom:-14px; left:0; width:100%; text-align:center; font-size:12px;\n",
       "    }\n",
       "    .sent-bars-title, .sent-compound-title {\n",
       "        position:absolute; width:100%; font-weight:bold; top:-15px; left:0; font-size:12px;\n",
       "    }\n",
       "    .sent-compound {\n",
       "        display:inline-block; vertical-align:top;border:1px solid #ccc;border-radius:5px;margin-top:20px; position:relative;\n",
       "        width:100px; height:100px; font-size:14px; font-weight:bold; margin-bottom:40px;\n",
       "    }\n",
       "    .sent-compound span {\n",
       "    color:#000; \n",
       "    display:inline-block;\n",
       "    line-height:100px;\n",
       "    width:100px;\n",
       "    text-align:center; \n",
       "    }\n",
       "\n",
       "    .text-wrapper {\n",
       "        font-size: 14px;width:100%;max-width:800px;overflow-wrap:anywhere;line-height:1.5;\n",
       "    }\n",
       "    span.ttppee {font-style:italic;}\n",
       "\n",
       "    span.icon {font-size:12px;}\n",
       "    </style>\n",
       "    <div class='text-wrapper'><span class='sent-word' style='background-color:rgb(255,255,255);' title='score: 0 '>I</span> <span class='sent-word' style='background-color:rgb(255,255,255);' title='score: 0 '>wasn't</span> <span class='sent-word' style='background-color:rgb(170,255,170);' title='score: 1.332 negated'>⛔unhappy</span> <span class='sent-word' style='background-color:rgb(255,255,255);' title='score: 0 '>with</span> <span class='sent-word' style='background-color:rgb(255,255,255);' title='score: 0 '>the</span> <span class='sent-word' style='background-color:rgb(255,255,255);' title='score: 0 '>results</span></div>"
      ],
      "text/plain": [
       "<IPython.core.display.HTML object>"
      ]
     },
     "metadata": {},
     "output_type": "display_data"
    },
    {
     "data": {
      "text/html": [
       "\n",
       "    <div>\n",
       "        \n",
       "    <div class='sent-compound' style='background:rgb(172,255,172);'>\n",
       "        <div class='sent-compound-title'>Compound</div>\n",
       "        <span>0.325</span>\n",
       "    </div>\n",
       "     \n",
       "        \n",
       "    <div class='sent-bars'>\n",
       "        <div class='sent-bars-title'>Proportions</div>\n",
       "        <div class='sent-bar sent-bar-pos' style='height:25px; left:8px;' title='neg proportion: 0.318'><span>pos</span></div>\n",
       "        <div class='sent-bar sent-bar-neu' style='height:54px; left:38px;' title='neg proportion: 0.682'><span>neu</span></div>\n",
       "        <div class='sent-bar sent-bar-neg' style='height:0px; left:68px;' title='neg proportion: 0.000'><span>neg</span></div>\n",
       "        <div class='sent-bar-line'></div>\n",
       "    </div>\n",
       "    \n",
       "    </div>\n",
       "    "
      ],
      "text/plain": [
       "<IPython.core.display.HTML object>"
      ]
     },
     "metadata": {},
     "output_type": "display_data"
    },
    {
     "data": {
      "text/html": [
       "\n",
       "    <style>\n",
       "    .sent-word {\n",
       "        color: #000;\n",
       "        padding: 2px;\n",
       "        border-radius: 3px;\n",
       "        font-size: 14px;\n",
       "        margin-left: 0px;\n",
       "        margin-bottom: 5px;\n",
       "        white-space: nowrap;\n",
       "        overflow-wrap: normal;\n",
       "        word-break: normal;\n",
       "        border: 1px solid #ccc;\n",
       "        display: inline-block;\n",
       "    }\n",
       "    .sent-bars {\n",
       "        margin-top:20px; margin-bottom:40px; background:#fff; border-radius:5px; width:100px; height:100px; display:inline-block; position:relative; vertical-align:top;border:1px solid #ccc;\n",
       "    }\n",
       "    .sent-bar {\n",
       "        position:absolute; bottom:15px; width:24px; border:1px solid #bbb; border-radius:4px 4px 0 0; text-align:center; color:#000; font-size:15px;\n",
       "    }\n",
       "    .sent-bar-line {\n",
       "        position:absolute; bottom:15px; left:5px; width:90px;margin:0 auto; height:1px; background:#999;\n",
       "    }\n",
       "    .sent-bar-pos { background:rgb(0,200,0);}\n",
       "    .sent-bar-neu { background:rgb(255,255,255);}\n",
       "    .sent-bar-neg { background:rgb(200,0,0);}\n",
       "    .sent-bar span:first-child {\n",
       "        position:absolute; bottom:-14px; left:0; width:100%; text-align:center; font-size:12px;\n",
       "    }\n",
       "    .sent-bars-title, .sent-compound-title {\n",
       "        position:absolute; width:100%; font-weight:bold; top:-15px; left:0; font-size:12px;\n",
       "    }\n",
       "    .sent-compound {\n",
       "        display:inline-block; vertical-align:top;border:1px solid #ccc;border-radius:5px;margin-top:20px; position:relative;\n",
       "        width:100px; height:100px; font-size:14px; font-weight:bold; margin-bottom:40px;\n",
       "    }\n",
       "    .sent-compound span {\n",
       "    color:#000; \n",
       "    display:inline-block;\n",
       "    line-height:100px;\n",
       "    width:100px;\n",
       "    text-align:center; \n",
       "    }\n",
       "\n",
       "    .text-wrapper {\n",
       "        font-size: 14px;width:100%;max-width:800px;overflow-wrap:anywhere;line-height:1.5;\n",
       "    }\n",
       "    span.ttppee {font-style:italic;}\n",
       "\n",
       "    span.icon {font-size:12px;}\n",
       "    </style>\n",
       "    <div class='text-wrapper'><span class='sent-word' style='background-color:rgb(255,255,255);' title='score: 0 '>Your</span> <span class='sent-word' style='background-color:rgb(255,255,255);' title='score: 0 '>example</span> <span class='sent-word' style='background-color:rgb(255,255,255);' title='score: 0 '>here</span></div>"
      ],
      "text/plain": [
       "<IPython.core.display.HTML object>"
      ]
     },
     "metadata": {},
     "output_type": "display_data"
    },
    {
     "data": {
      "text/html": [
       "\n",
       "    <div>\n",
       "        \n",
       "    <div class='sent-compound' style='background:rgb(255,255,255);'>\n",
       "        <div class='sent-compound-title'>Compound</div>\n",
       "        <span>0.000</span>\n",
       "    </div>\n",
       "     \n",
       "        \n",
       "    <div class='sent-bars'>\n",
       "        <div class='sent-bars-title'>Proportions</div>\n",
       "        <div class='sent-bar sent-bar-pos' style='height:0px; left:8px;' title='neg proportion: 0.000'><span>pos</span></div>\n",
       "        <div class='sent-bar sent-bar-neu' style='height:80px; left:38px;' title='neg proportion: 1.000'><span>neu</span></div>\n",
       "        <div class='sent-bar sent-bar-neg' style='height:0px; left:68px;' title='neg proportion: 0.000'><span>neg</span></div>\n",
       "        <div class='sent-bar-line'></div>\n",
       "    </div>\n",
       "    \n",
       "    </div>\n",
       "    "
      ],
      "text/plain": [
       "<IPython.core.display.HTML object>"
      ]
     },
     "metadata": {},
     "output_type": "display_data"
    }
   ],
   "source": [
    "examples = [\n",
    "    'I had no problems with this phone', \n",
    "    \"I wasn't unhappy with the results\", \n",
    "    'Your example here',\n",
    "]\n",
    "\n",
    "print('Hint: Hover your mouse over specific words or the bar chart to see more information.  ')\n",
    "\n",
    "for example in examples:\n",
    "    interpreter.explain(example)"
   ]
  },
  {
   "cell_type": "markdown",
   "metadata": {},
   "source": [
    "### Vagueness\n",
    "\n",
    "TODO add explanation"
   ]
  },
  {
   "cell_type": "code",
   "execution_count": 83,
   "metadata": {},
   "outputs": [
    {
     "name": "stdout",
     "output_type": "stream",
     "text": [
      "Hint: Hover your mouse over specific words or the bar chart to see more information.  \n"
     ]
    },
    {
     "data": {
      "text/html": [
       "\n",
       "    <style>\n",
       "    .sent-word {\n",
       "        color: #000;\n",
       "        padding: 2px;\n",
       "        border-radius: 3px;\n",
       "        font-size: 14px;\n",
       "        margin-left: 0px;\n",
       "        margin-bottom: 5px;\n",
       "        white-space: nowrap;\n",
       "        overflow-wrap: normal;\n",
       "        word-break: normal;\n",
       "        border: 1px solid #ccc;\n",
       "        display: inline-block;\n",
       "    }\n",
       "    .sent-bars {\n",
       "        margin-top:20px; margin-bottom:40px; background:#fff; border-radius:5px; width:100px; height:100px; display:inline-block; position:relative; vertical-align:top;border:1px solid #ccc;\n",
       "    }\n",
       "    .sent-bar {\n",
       "        position:absolute; bottom:15px; width:24px; border:1px solid #bbb; border-radius:4px 4px 0 0; text-align:center; color:#000; font-size:15px;\n",
       "    }\n",
       "    .sent-bar-line {\n",
       "        position:absolute; bottom:15px; left:5px; width:90px;margin:0 auto; height:1px; background:#999;\n",
       "    }\n",
       "    .sent-bar-pos { background:rgb(0,200,0);}\n",
       "    .sent-bar-neu { background:rgb(255,255,255);}\n",
       "    .sent-bar-neg { background:rgb(200,0,0);}\n",
       "    .sent-bar span:first-child {\n",
       "        position:absolute; bottom:-14px; left:0; width:100%; text-align:center; font-size:12px;\n",
       "    }\n",
       "    .sent-bars-title, .sent-compound-title {\n",
       "        position:absolute; width:100%; font-weight:bold; top:-15px; left:0; font-size:12px;\n",
       "    }\n",
       "    .sent-compound {\n",
       "        display:inline-block; vertical-align:top;border:1px solid #ccc;border-radius:5px;margin-top:20px; position:relative;\n",
       "        width:100px; height:100px; font-size:14px; font-weight:bold; margin-bottom:40px;\n",
       "    }\n",
       "    .sent-compound span {\n",
       "    color:#000; \n",
       "    display:inline-block;\n",
       "    line-height:100px;\n",
       "    width:100px;\n",
       "    text-align:center; \n",
       "    }\n",
       "\n",
       "    .text-wrapper {\n",
       "        font-size: 14px;width:100%;max-width:800px;overflow-wrap:anywhere;line-height:1.5;\n",
       "    }\n",
       "    span.ttppee {font-style:italic;}\n",
       "\n",
       "    span.icon {font-size:12px;}\n",
       "    </style>\n",
       "    <div class='text-wrapper'><span class='sent-word' style='background-color:rgb(255,255,255);' title='score: 0 '>I</span> <span class='sent-word' style='background-color:rgb(255,255,255);' title='score: 0 '>must</span> <span class='sent-word' style='background-color:rgb(255,255,255);' title='score: 0 '>say</span> <span class='sent-word' style='background-color:rgb(255,255,255);' title='score: 0 '>to</span> <span class='sent-word' style='background-color:rgb(255,255,255);' title='score: 0 '>the</span> <span class='sent-word' style='background-color:rgb(255,255,255);' title='score: 0 '>member</span> <span class='sent-word' style='background-color:rgb(255,255,255);' title='score: 0 '>that</span> <span class='sent-word' style='background-color:rgb(255,255,255);' title='score: 0 '>given</span> <span class='sent-word' style='background-color:rgb(255,255,255);' title='score: 0 '>his</span> <span class='sent-word' style='background-color:rgb(255,255,255);' title='score: 0 '>description</span>, <span class='sent-word' style='background-color:rgb(255,255,255);' title='score: 0 '>there</span> <span class='sent-word' style='background-color:rgb(255,255,255);' title='score: 0 '>is</span> <span class='sent-word' style='background-color:rgb(255,255,255);' title='score: 0 '>something</span> <span class='sent-word' style='background-color:rgb(146,255,146);' title='score: 1.7 '>interesting</span>, <span class='sent-word' style='background-color:rgb(255,255,255);' title='score: 0 '>if</span> <span class='sent-word' style='background-color:rgb(255,255,255);' title='score: 0 '>not</span> <span class='sent-word' style='background-color:rgb(226,255,226);' title='score: 0.444 negated'>⛔tricky</span>, <span class='sent-word' style='background-color:rgb(255,255,255);' title='score: 0 '>about</span> <span class='sent-word' style='background-color:rgb(255,255,255);' title='score: 0 '>the</span> <span class='sent-word' style='background-color:rgb(255,255,255);' title='score: 0 '>particular</span> <span class='sent-word' style='background-color:rgb(255,255,255);' title='score: 0 '>case</span> <span class='sent-word' style='background-color:rgb(255,255,255);' title='score: 0 '>if</span> <span class='sent-word' style='background-color:rgb(255,255,255);' title='score: 0 '>the</span> <span class='sent-word' style='background-color:rgb(255,255,255);' title='score: 0 '>circumstances</span> <span class='sent-word' style='background-color:rgb(255,255,255);' title='score: 0 '>are</span> <span class='sent-word' style='background-color:rgb(255,255,255);' title='score: 0 '>as</span> <span class='sent-word' style='background-color:rgb(255,255,255);' title='score: 0 '>he</span> <span class='sent-word' style='background-color:rgb(255,255,255);' title='score: 0 '>outlines</span>.</div>"
      ],
      "text/plain": [
       "<IPython.core.display.HTML object>"
      ]
     },
     "metadata": {},
     "output_type": "display_data"
    },
    {
     "data": {
      "text/html": [
       "\n",
       "    <div>\n",
       "        \n",
       "    <div class='sent-compound' style='background:rgb(131,255,131);'>\n",
       "        <div class='sent-compound-title'>Compound</div>\n",
       "        <span>0.484</span>\n",
       "    </div>\n",
       "     \n",
       "        \n",
       "    <div class='sent-bars'>\n",
       "        <div class='sent-bars-title'>Proportions</div>\n",
       "        <div class='sent-bar sent-bar-pos' style='height:10px; left:8px;' title='neg proportion: 0.137'><span>pos</span></div>\n",
       "        <div class='sent-bar sent-bar-neu' style='height:69px; left:38px;' title='neg proportion: 0.863'><span>neu</span></div>\n",
       "        <div class='sent-bar sent-bar-neg' style='height:0px; left:68px;' title='neg proportion: 0.000'><span>neg</span></div>\n",
       "        <div class='sent-bar-line'></div>\n",
       "    </div>\n",
       "    \n",
       "    </div>\n",
       "    "
      ],
      "text/plain": [
       "<IPython.core.display.HTML object>"
      ]
     },
     "metadata": {},
     "output_type": "display_data"
    },
    {
     "data": {
      "text/html": [
       "\n",
       "    <style>\n",
       "    .sent-word {\n",
       "        color: #000;\n",
       "        padding: 2px;\n",
       "        border-radius: 3px;\n",
       "        font-size: 14px;\n",
       "        margin-left: 0px;\n",
       "        margin-bottom: 5px;\n",
       "        white-space: nowrap;\n",
       "        overflow-wrap: normal;\n",
       "        word-break: normal;\n",
       "        border: 1px solid #ccc;\n",
       "        display: inline-block;\n",
       "    }\n",
       "    .sent-bars {\n",
       "        margin-top:20px; margin-bottom:40px; background:#fff; border-radius:5px; width:100px; height:100px; display:inline-block; position:relative; vertical-align:top;border:1px solid #ccc;\n",
       "    }\n",
       "    .sent-bar {\n",
       "        position:absolute; bottom:15px; width:24px; border:1px solid #bbb; border-radius:4px 4px 0 0; text-align:center; color:#000; font-size:15px;\n",
       "    }\n",
       "    .sent-bar-line {\n",
       "        position:absolute; bottom:15px; left:5px; width:90px;margin:0 auto; height:1px; background:#999;\n",
       "    }\n",
       "    .sent-bar-pos { background:rgb(0,200,0);}\n",
       "    .sent-bar-neu { background:rgb(255,255,255);}\n",
       "    .sent-bar-neg { background:rgb(200,0,0);}\n",
       "    .sent-bar span:first-child {\n",
       "        position:absolute; bottom:-14px; left:0; width:100%; text-align:center; font-size:12px;\n",
       "    }\n",
       "    .sent-bars-title, .sent-compound-title {\n",
       "        position:absolute; width:100%; font-weight:bold; top:-15px; left:0; font-size:12px;\n",
       "    }\n",
       "    .sent-compound {\n",
       "        display:inline-block; vertical-align:top;border:1px solid #ccc;border-radius:5px;margin-top:20px; position:relative;\n",
       "        width:100px; height:100px; font-size:14px; font-weight:bold; margin-bottom:40px;\n",
       "    }\n",
       "    .sent-compound span {\n",
       "    color:#000; \n",
       "    display:inline-block;\n",
       "    line-height:100px;\n",
       "    width:100px;\n",
       "    text-align:center; \n",
       "    }\n",
       "\n",
       "    .text-wrapper {\n",
       "        font-size: 14px;width:100%;max-width:800px;overflow-wrap:anywhere;line-height:1.5;\n",
       "    }\n",
       "    span.ttppee {font-style:italic;}\n",
       "\n",
       "    span.icon {font-size:12px;}\n",
       "    </style>\n",
       "    <div class='text-wrapper'><span class='sent-word' style='background-color:rgb(255,255,255);' title='score: 0 '>Your</span> <span class='sent-word' style='background-color:rgb(255,255,255);' title='score: 0 '>example</span> <span class='sent-word' style='background-color:rgb(255,255,255);' title='score: 0 '>here</span></div>"
      ],
      "text/plain": [
       "<IPython.core.display.HTML object>"
      ]
     },
     "metadata": {},
     "output_type": "display_data"
    },
    {
     "data": {
      "text/html": [
       "\n",
       "    <div>\n",
       "        \n",
       "    <div class='sent-compound' style='background:rgb(255,255,255);'>\n",
       "        <div class='sent-compound-title'>Compound</div>\n",
       "        <span>0.000</span>\n",
       "    </div>\n",
       "     \n",
       "        \n",
       "    <div class='sent-bars'>\n",
       "        <div class='sent-bars-title'>Proportions</div>\n",
       "        <div class='sent-bar sent-bar-pos' style='height:0px; left:8px;' title='neg proportion: 0.000'><span>pos</span></div>\n",
       "        <div class='sent-bar sent-bar-neu' style='height:80px; left:38px;' title='neg proportion: 1.000'><span>neu</span></div>\n",
       "        <div class='sent-bar sent-bar-neg' style='height:0px; left:68px;' title='neg proportion: 0.000'><span>neg</span></div>\n",
       "        <div class='sent-bar-line'></div>\n",
       "    </div>\n",
       "    \n",
       "    </div>\n",
       "    "
      ],
      "text/plain": [
       "<IPython.core.display.HTML object>"
      ]
     },
     "metadata": {},
     "output_type": "display_data"
    }
   ],
   "source": [
    "\n",
    "examples = [\n",
    "    'I must say to the member that given his description, there is something interesting, if not tricky, about the particular case if the circumstances are as he outlines.',\n",
    "    'Your example here',\n",
    "]\n",
    "\n",
    "print('Hint: Hover your mouse over specific words or the bar chart to see more information.  ')\n",
    "\n",
    "for example in examples:\n",
    "    interpreter.explain(example)"
   ]
  },
  {
   "cell_type": "markdown",
   "metadata": {},
   "source": [
    "TODO Systems that use more complex emebeddings can do better with these kind of examples, but this really relies on there being examples in the data used to fine-tune them.  "
   ]
  },
  {
   "cell_type": "markdown",
   "metadata": {},
   "source": [
    "## 5. It might be obvious, but remember: Not all texts express sentiment!\n",
    "\n",
    "Sentiment analysis may not be an appropriate technique for analysing some kinds of texts. For example, some texts are not primarily about presenting a point of view or evaluation (e.g. journalistic texts, scientific writing) and some authors/speakers are motivated to express their point of view in an ambiguous way (e.g. a politician answering tricky media questions). Take some time to explore some different kinds of texts (e.g. editorials, fiction, tweets, news articles, political speeches, texts from the corpora you've worked with through the course). Vader will tend to perform better with short texts, so make sure you try texts of different lengths.  "
   ]
  },
  {
   "cell_type": "code",
   "execution_count": 84,
   "metadata": {},
   "outputs": [
    {
     "data": {
      "text/html": [
       "\n",
       "    <style>\n",
       "    .sent-word {\n",
       "        color: #000;\n",
       "        padding: 2px;\n",
       "        border-radius: 3px;\n",
       "        font-size: 14px;\n",
       "        margin-left: 0px;\n",
       "        margin-bottom: 5px;\n",
       "        white-space: nowrap;\n",
       "        overflow-wrap: normal;\n",
       "        word-break: normal;\n",
       "        border: 1px solid #ccc;\n",
       "        display: inline-block;\n",
       "    }\n",
       "    .sent-bars {\n",
       "        margin-top:20px; margin-bottom:40px; background:#fff; border-radius:5px; width:100px; height:100px; display:inline-block; position:relative; vertical-align:top;border:1px solid #ccc;\n",
       "    }\n",
       "    .sent-bar {\n",
       "        position:absolute; bottom:15px; width:24px; border:1px solid #bbb; border-radius:4px 4px 0 0; text-align:center; color:#000; font-size:15px;\n",
       "    }\n",
       "    .sent-bar-line {\n",
       "        position:absolute; bottom:15px; left:5px; width:90px;margin:0 auto; height:1px; background:#999;\n",
       "    }\n",
       "    .sent-bar-pos { background:rgb(0,200,0);}\n",
       "    .sent-bar-neu { background:rgb(255,255,255);}\n",
       "    .sent-bar-neg { background:rgb(200,0,0);}\n",
       "    .sent-bar span:first-child {\n",
       "        position:absolute; bottom:-14px; left:0; width:100%; text-align:center; font-size:12px;\n",
       "    }\n",
       "    .sent-bars-title, .sent-compound-title {\n",
       "        position:absolute; width:100%; font-weight:bold; top:-15px; left:0; font-size:12px;\n",
       "    }\n",
       "    .sent-compound {\n",
       "        display:inline-block; vertical-align:top;border:1px solid #ccc;border-radius:5px;margin-top:20px; position:relative;\n",
       "        width:100px; height:100px; font-size:14px; font-weight:bold; margin-bottom:40px;\n",
       "    }\n",
       "    .sent-compound span {\n",
       "    color:#000; \n",
       "    display:inline-block;\n",
       "    line-height:100px;\n",
       "    width:100px;\n",
       "    text-align:center; \n",
       "    }\n",
       "\n",
       "    .text-wrapper {\n",
       "        font-size: 14px;width:100%;max-width:800px;overflow-wrap:anywhere;line-height:1.5;\n",
       "    }\n",
       "    span.ttppee {font-style:italic;}\n",
       "\n",
       "    span.icon {font-size:12px;}\n",
       "    </style>\n",
       "    <div class='text-wrapper'>\n",
       "<span class='sent-word' style='background-color:rgb(255,255,255);' title='score: 0 '>The</span> <span class='sent-word' style='background-color:rgb(255,255,255);' title='score: 0 '>islands</span> <span class='sent-word' style='background-color:rgb(255,255,255);' title='score: 0 '>of</span> <span class='sent-word' style='background-color:rgb(255,255,255);' title='score: 0 '>New</span> <span class='sent-word' style='background-color:rgb(255,255,255);' title='score: 0 '>Zealand</span> <span class='sent-word' style='background-color:rgb(255,255,255);' title='score: 0 '>were</span> <span class='sent-word' style='background-color:rgb(255,255,255);' title='score: 0 '>the</span> <span class='sent-word' style='background-color:rgb(255,255,255);' title='score: 0 '>last</span> <span class='sent-word' style='background-color:rgb(255,255,255);' title='score: 0 '>large</span> <span class='sent-word' style='background-color:rgb(255,255,255);' title='score: 0 '>habitable</span> <span class='sent-word' style='background-color:rgb(255,255,255);' title='score: 0 '>land</span> <span class='sent-word' style='background-color:rgb(255,255,255);' title='score: 0 '>to</span> <span class='sent-word' style='background-color:rgb(255,255,255);' title='score: 0 '>be</span> <span class='sent-word' style='background-color:rgb(255,255,255);' title='score: 0 '>settled</span> <span class='sent-word' style='background-color:rgb(255,255,255);' title='score: 0 '>by</span> <span class='sent-word' style='background-color:rgb(255,255,255);' title='score: 0 '>humans</span>. <span class='sent-word' style='background-color:rgb(255,255,255);' title='score: 0 '>Between</span> <span class='sent-word' style='background-color:rgb(255,255,255);' title='score: 0 '>about</span> <span class='sent-word' style='background-color:rgb(255,255,255);' title='score: 0 '>1280</span> <span class='sent-word' style='background-color:rgb(255,255,255);' title='score: 0 '>and</span> <span class='sent-word' style='background-color:rgb(255,255,255);' title='score: 0 '>1350</span>, <span class='sent-word' style='background-color:rgb(255,255,255);' title='score: 0 '>Polynesians</span> <span class='sent-word' style='background-color:rgb(255,255,255);' title='score: 0 '>began</span> <span class='sent-word' style='background-color:rgb(255,255,255);' title='score: 0 '>to</span> <span class='sent-word' style='background-color:rgb(255,255,255);' title='score: 0 '>settle</span> <span class='sent-word' style='background-color:rgb(255,255,255);' title='score: 0 '>in</span> <span class='sent-word' style='background-color:rgb(255,255,255);' title='score: 0 '>the</span> <span class='sent-word' style='background-color:rgb(255,255,255);' title='score: 0 '>islands</span> <span class='sent-word' style='background-color:rgb(255,255,255);' title='score: 0 '>and</span> <span class='sent-word' style='background-color:rgb(255,255,255);' title='score: 0 '>subsequently</span> <span class='sent-word' style='background-color:rgb(255,255,255);' title='score: 0 '>developed</span> <span class='sent-word' style='background-color:rgb(255,255,255);' title='score: 0 '>a</span> <span class='sent-word' style='background-color:rgb(255,255,255);' title='score: 0 '>distinctive</span> <span class='sent-word' style='background-color:rgb(255,255,255);' title='score: 0 '>Māori</span> <span class='sent-word' style='background-color:rgb(255,255,255);' title='score: 0 '>culture</span>. <span class='sent-word' style='background-color:rgb(255,255,255);' title='score: 0 '>In</span> <span class='sent-word' style='background-color:rgb(255,255,255);' title='score: 0 '>1642</span>, <span class='sent-word' style='background-color:rgb(255,255,255);' title='score: 0 '>the</span> <span class='sent-word' style='background-color:rgb(255,255,255);' title='score: 0 '>Dutch</span> <span class='sent-word' style='background-color:rgb(255,255,255);' title='score: 0 '>explorer</span> <span class='sent-word' style='background-color:rgb(255,255,255);' title='score: 0 '>Abel</span> <span class='sent-word' style='background-color:rgb(255,255,255);' title='score: 0 '>Tasman</span> <span class='sent-word' style='background-color:rgb(255,255,255);' title='score: 0 '>became</span> <span class='sent-word' style='background-color:rgb(255,255,255);' title='score: 0 '>the</span> <span class='sent-word' style='background-color:rgb(255,255,255);' title='score: 0 '>first</span> <span class='sent-word' style='background-color:rgb(255,255,255);' title='score: 0 '>European</span> <span class='sent-word' style='background-color:rgb(255,255,255);' title='score: 0 '>to</span> <span class='sent-word' style='background-color:rgb(255,255,255);' title='score: 0 '>sight</span> <span class='sent-word' style='background-color:rgb(255,255,255);' title='score: 0 '>and</span> <span class='sent-word' style='background-color:rgb(255,255,255);' title='score: 0 '>record</span> <span class='sent-word' style='background-color:rgb(255,255,255);' title='score: 0 '>New</span> <span class='sent-word' style='background-color:rgb(255,255,255);' title='score: 0 '>Zealand</span>. <span class='sent-word' style='background-color:rgb(255,255,255);' title='score: 0 '>In</span> <span class='sent-word' style='background-color:rgb(255,255,255);' title='score: 0 '>1769</span> <span class='sent-word' style='background-color:rgb(255,255,255);' title='score: 0 '>the</span> <span class='sent-word' style='background-color:rgb(255,255,255);' title='score: 0 '>British</span> <span class='sent-word' style='background-color:rgb(255,255,255);' title='score: 0 '>explorer</span> <span class='sent-word' style='background-color:rgb(255,255,255);' title='score: 0 '>Captain</span> <span class='sent-word' style='background-color:rgb(255,255,255);' title='score: 0 '>James</span> <span class='sent-word' style='background-color:rgb(255,255,255);' title='score: 0 '>Cook</span> <span class='sent-word' style='background-color:rgb(255,255,255);' title='score: 0 '>became</span> <span class='sent-word' style='background-color:rgb(255,255,255);' title='score: 0 '>the</span> <span class='sent-word' style='background-color:rgb(255,255,255);' title='score: 0 '>first</span> <span class='sent-word' style='background-color:rgb(255,255,255);' title='score: 0 '>European</span> <span class='sent-word' style='background-color:rgb(255,255,255);' title='score: 0 '>to</span> <span class='sent-word' style='background-color:rgb(255,255,255);' title='score: 0 '>set</span> <span class='sent-word' style='background-color:rgb(255,255,255);' title='score: 0 '>foot</span> <span class='sent-word' style='background-color:rgb(255,255,255);' title='score: 0 '>on</span> <span class='sent-word' style='background-color:rgb(255,255,255);' title='score: 0 '>and</span> <span class='sent-word' style='background-color:rgb(255,255,255);' title='score: 0 '>map</span> <span class='sent-word' style='background-color:rgb(255,255,255);' title='score: 0 '>New</span> <span class='sent-word' style='background-color:rgb(255,255,255);' title='score: 0 '>Zealand</span>. <span class='sent-word' style='background-color:rgb(255,255,255);' title='score: 0 '>In</span> <span class='sent-word' style='background-color:rgb(255,255,255);' title='score: 0 '>1840</span>, <span class='sent-word' style='background-color:rgb(255,255,255);' title='score: 0 '>representatives</span> <span class='sent-word' style='background-color:rgb(255,255,255);' title='score: 0 '>of</span> <span class='sent-word' style='background-color:rgb(255,255,255);' title='score: 0 '>the</span> <span class='sent-word' style='background-color:rgb(140,255,140);' title='score: 1.8 '>United</span> <span class='sent-word' style='background-color:rgb(255,255,255);' title='score: 0 '>Kingdom</span> <span class='sent-word' style='background-color:rgb(255,255,255);' title='score: 0 '>and</span> <span class='sent-word' style='background-color:rgb(255,255,255);' title='score: 0 '>Māori</span> <span class='sent-word' style='background-color:rgb(255,255,255);' title='score: 0 '>chiefs</span> <span class='sent-word' style='background-color:rgb(255,255,255);' title='score: 0 '>signed</span> <span class='sent-word' style='background-color:rgb(255,255,255);' title='score: 0 '>the</span> <span class='sent-word' style='background-color:rgb(255,255,255);' title='score: 0 '>Treaty</span> <span class='sent-word' style='background-color:rgb(255,255,255);' title='score: 0 '>of</span> <span class='sent-word' style='background-color:rgb(255,255,255);' title='score: 0 '>Waitangi</span> <span class='sent-word' style='background-color:rgb(255,255,255);' title='score: 0 '>which</span> <span class='sent-word' style='background-color:rgb(255,255,255);' title='score: 0 '>paved</span> <span class='sent-word' style='background-color:rgb(255,255,255);' title='score: 0 '>the</span> <span class='sent-word' style='background-color:rgb(255,255,255);' title='score: 0 '>way</span> <span class='sent-word' style='background-color:rgb(255,255,255);' title='score: 0 '>for</span> <span class='sent-word' style='background-color:rgb(255,255,255);' title='score: 0 '>Britain's</span> <span class='sent-word' style='background-color:rgb(255,255,255);' title='score: 0 '>declaration</span> <span class='sent-word' style='background-color:rgb(255,255,255);' title='score: 0 '>of</span> <span class='sent-word' style='background-color:rgb(255,255,255);' title='score: 0 '>sovereignty</span> <span class='sent-word' style='background-color:rgb(255,255,255);' title='score: 0 '>later</span> <span class='sent-word' style='background-color:rgb(255,255,255);' title='score: 0 '>that</span> <span class='sent-word' style='background-color:rgb(255,255,255);' title='score: 0 '>year</span> <span class='sent-word' style='background-color:rgb(255,255,255);' title='score: 0 '>and</span> <span class='sent-word' style='background-color:rgb(255,255,255);' title='score: 0 '>the</span> <span class='sent-word' style='background-color:rgb(255,255,255);' title='score: 0 '>establishment</span> <span class='sent-word' style='background-color:rgb(255,255,255);' title='score: 0 '>of</span> <span class='sent-word' style='background-color:rgb(255,255,255);' title='score: 0 '>the</span> <span class='sent-word' style='background-color:rgb(255,255,255);' title='score: 0 '>Crown</span> <span class='sent-word' style='background-color:rgb(255,255,255);' title='score: 0 '>Colony</span> <span class='sent-word' style='background-color:rgb(255,255,255);' title='score: 0 '>of</span> <span class='sent-word' style='background-color:rgb(255,255,255);' title='score: 0 '>New</span> <span class='sent-word' style='background-color:rgb(255,255,255);' title='score: 0 '>Zealand</span> <span class='sent-word' style='background-color:rgb(255,255,255);' title='score: 0 '>in</span> <span class='sent-word' style='background-color:rgb(255,255,255);' title='score: 0 '>1841</span>. <span class='sent-word' style='background-color:rgb(255,255,255);' title='score: 0 '>Subsequently</span>, <span class='sent-word' style='background-color:rgb(255,255,255);' title='score: 0 '>a</span> <span class='sent-word' style='background-color:rgb(255,255,255);' title='score: 0 '>series</span> <span class='sent-word' style='background-color:rgb(255,255,255);' title='score: 0 '>of</span> <span class='sent-word' style='background-color:rgb(255,153,153);' title='score: -1.6 '>conflicts</span> <span class='sent-word' style='background-color:rgb(255,255,255);' title='score: 0 '>between</span> <span class='sent-word' style='background-color:rgb(255,255,255);' title='score: 0 '>the</span> <span class='sent-word' style='background-color:rgb(255,255,255);' title='score: 0 '>colonial</span> <span class='sent-word' style='background-color:rgb(255,255,255);' title='score: 0 '>government</span> <span class='sent-word' style='background-color:rgb(255,255,255);' title='score: 0 '>and</span> <span class='sent-word' style='background-color:rgb(255,255,255);' title='score: 0 '>Māori</span> <span class='sent-word' style='background-color:rgb(255,255,255);' title='score: 0 '>tribes</span> <span class='sent-word' style='background-color:rgb(255,255,255);' title='score: 0 '>resulted</span> <span class='sent-word' style='background-color:rgb(255,255,255);' title='score: 0 '>in</span> <span class='sent-word' style='background-color:rgb(255,255,255);' title='score: 0 '>the</span> <span class='sent-word' style='background-color:rgb(255,184,184);' title='score: -1.1 '>alienation</span> <span class='sent-word' style='background-color:rgb(255,255,255);' title='score: 0 '>and</span> <span class='sent-word' style='background-color:rgb(255,255,255);' title='score: 0 '>confiscation</span> <span class='sent-word' style='background-color:rgb(255,255,255);' title='score: 0 '>of</span> <span class='sent-word' style='background-color:rgb(255,255,255);' title='score: 0 '>large</span> <span class='sent-word' style='background-color:rgb(255,255,255);' title='score: 0 '>amounts</span> <span class='sent-word' style='background-color:rgb(255,255,255);' title='score: 0 '>of</span> <span class='sent-word' style='background-color:rgb(255,255,255);' title='score: 0 '>Māori</span> <span class='sent-word' style='background-color:rgb(255,255,255);' title='score: 0 '>land</span>. <span class='sent-word' style='background-color:rgb(255,255,255);' title='score: 0 '>New</span> <span class='sent-word' style='background-color:rgb(255,255,255);' title='score: 0 '>Zealand</span> <span class='sent-word' style='background-color:rgb(255,255,255);' title='score: 0 '>became</span> <span class='sent-word' style='background-color:rgb(255,255,255);' title='score: 0 '>a</span> <span class='sent-word' style='background-color:rgb(255,255,255);' title='score: 0 '>dominion</span> <span class='sent-word' style='background-color:rgb(255,255,255);' title='score: 0 '>in</span> <span class='sent-word' style='background-color:rgb(255,255,255);' title='score: 0 '>1907</span>; <span class='sent-word' style='background-color:rgb(255,255,255);' title='score: 0 '>it</span> <span class='sent-word' style='background-color:rgb(153,255,153);' title='score: 1.6 '>gained</span> <span class='sent-word' style='background-color:rgb(255,255,255);' title='score: 0 '>full</span> <span class='sent-word' style='background-color:rgb(255,255,255);' title='score: 0 '>statutory</span> <span class='sent-word' style='background-color:rgb(255,255,255);' title='score: 0 '>independence</span> <span class='sent-word' style='background-color:rgb(255,255,255);' title='score: 0 '>in</span> <span class='sent-word' style='background-color:rgb(255,255,255);' title='score: 0 '>1947</span>, <span class='sent-word' style='background-color:rgb(255,255,255);' title='score: 0 '>retaining</span> <span class='sent-word' style='background-color:rgb(255,255,255);' title='score: 0 '>the</span> <span class='sent-word' style='background-color:rgb(255,255,255);' title='score: 0 '>monarch</span> <span class='sent-word' style='background-color:rgb(255,255,255);' title='score: 0 '>as</span> <span class='sent-word' style='background-color:rgb(255,255,255);' title='score: 0 '>head</span> <span class='sent-word' style='background-color:rgb(255,255,255);' title='score: 0 '>of</span> <span class='sent-word' style='background-color:rgb(255,255,255);' title='score: 0 '>state</span>. <span class='sent-word' style='background-color:rgb(255,255,255);' title='score: 0 '>Today</span>, <span class='sent-word' style='background-color:rgb(255,255,255);' title='score: 0 '>the</span> <span class='sent-word' style='background-color:rgb(255,255,255);' title='score: 0 '>majority</span> <span class='sent-word' style='background-color:rgb(255,255,255);' title='score: 0 '>of</span> <span class='sent-word' style='background-color:rgb(255,255,255);' title='score: 0 '>New</span> <span class='sent-word' style='background-color:rgb(255,255,255);' title='score: 0 '>Zealand's</span> <span class='sent-word' style='background-color:rgb(255,255,255);' title='score: 0 '>population</span> <span class='sent-word' style='background-color:rgb(255,255,255);' title='score: 0 '>of</span> <span class='sent-word' style='background-color:rgb(255,255,255);' title='score: 0 '>around</span> <span class='sent-word' style='background-color:rgb(255,255,255);' title='score: 0 '>5.3</span> <span class='sent-word' style='background-color:rgb(255,255,255);' title='score: 0 '>million</span> <span class='sent-word' style='background-color:rgb(255,255,255);' title='score: 0 '>is</span> <span class='sent-word' style='background-color:rgb(255,255,255);' title='score: 0 '>of</span> <span class='sent-word' style='background-color:rgb(255,255,255);' title='score: 0 '>European</span> <span class='sent-word' style='background-color:rgb(255,255,255);' title='score: 0 '>descent</span>; <span class='sent-word' style='background-color:rgb(255,255,255);' title='score: 0 '>the</span> <span class='sent-word' style='background-color:rgb(255,255,255);' title='score: 0 '>indigenous</span> <span class='sent-word' style='background-color:rgb(255,255,255);' title='score: 0 '>Māori</span> <span class='sent-word' style='background-color:rgb(255,255,255);' title='score: 0 '>are</span> <span class='sent-word' style='background-color:rgb(255,255,255);' title='score: 0 '>the</span> <span class='sent-word' style='background-color:rgb(255,255,255);' title='score: 0 '>largest</span> <span class='sent-word' style='background-color:rgb(255,255,255);' title='score: 0 '>minority</span>, <span class='sent-word' style='background-color:rgb(255,255,255);' title='score: 0 '>followed</span> <span class='sent-word' style='background-color:rgb(255,255,255);' title='score: 0 '>by</span> <span class='sent-word' style='background-color:rgb(255,255,255);' title='score: 0 '>Asians</span> <span class='sent-word' style='background-color:rgb(255,255,255);' title='score: 0 '>and</span> <span class='sent-word' style='background-color:rgb(255,255,255);' title='score: 0 '>Pasifika</span>. <span class='sent-word' style='background-color:rgb(255,255,255);' title='score: 0 '>Reflecting</span> <span class='sent-word' style='background-color:rgb(255,255,255);' title='score: 0 '>this</span>, <span class='sent-word' style='background-color:rgb(255,255,255);' title='score: 0 '>New</span> <span class='sent-word' style='background-color:rgb(255,255,255);' title='score: 0 '>Zealand's</span> <span class='sent-word' style='background-color:rgb(255,255,255);' title='score: 0 '>culture</span> <span class='sent-word' style='background-color:rgb(255,255,255);' title='score: 0 '>is</span> <span class='sent-word' style='background-color:rgb(255,255,255);' title='score: 0 '>mainly</span> <span class='sent-word' style='background-color:rgb(255,255,255);' title='score: 0 '>derived</span> <span class='sent-word' style='background-color:rgb(255,255,255);' title='score: 0 '>from</span> <span class='sent-word' style='background-color:rgb(255,255,255);' title='score: 0 '>Māori</span> <span class='sent-word' style='background-color:rgb(255,255,255);' title='score: 0 '>and</span> <span class='sent-word' style='background-color:rgb(255,255,255);' title='score: 0 '>early</span> <span class='sent-word' style='background-color:rgb(255,255,255);' title='score: 0 '>British</span> <span class='sent-word' style='background-color:rgb(255,255,255);' title='score: 0 '>settlers</span> <span class='sent-word' style='background-color:rgb(255,255,255);' title='score: 0 '>but</span> <span class='sent-word' style='background-color:rgb(255,255,255);' title='score: 0 '>has</span> <span class='sent-word' style='background-color:rgb(255,255,255);' title='score: 0 '>recently</span> <span class='sent-word' style='background-color:rgb(255,255,255);' title='score: 0 '>broadened</span> <span class='sent-word' style='background-color:rgb(255,255,255);' title='score: 0 '>from</span> <span class='sent-word' style='background-color:rgb(184,255,184);' title='score: 1.1 '>increased</span> <span class='sent-word' style='background-color:rgb(255,255,255);' title='score: 0 '>immigration</span>. <span class='sent-word' style='background-color:rgb(255,255,255);' title='score: 0 '>The</span> <span class='sent-word' style='background-color:rgb(255,255,255);' title='score: 0 '>official</span> <span class='sent-word' style='background-color:rgb(255,255,255);' title='score: 0 '>languages</span> <span class='sent-word' style='background-color:rgb(255,255,255);' title='score: 0 '>are</span> <span class='sent-word' style='background-color:rgb(255,255,255);' title='score: 0 '>English</span>, <span class='sent-word' style='background-color:rgb(255,255,255);' title='score: 0 '>Māori</span>, <span class='sent-word' style='background-color:rgb(255,255,255);' title='score: 0 '>and</span> <span class='sent-word' style='background-color:rgb(255,255,255);' title='score: 0 '>New</span> <span class='sent-word' style='background-color:rgb(255,255,255);' title='score: 0 '>Zealand</span> <span class='sent-word' style='background-color:rgb(255,255,255);' title='score: 0 '>Sign</span> <span class='sent-word' style='background-color:rgb(255,255,255);' title='score: 0 '>Language</span>, <span class='sent-word' style='background-color:rgb(255,255,255);' title='score: 0 '>with</span> <span class='sent-word' style='background-color:rgb(255,255,255);' title='score: 0 '>the</span> <span class='sent-word' style='background-color:rgb(255,255,255);' title='score: 0 '>local</span> <span class='sent-word' style='background-color:rgb(255,255,255);' title='score: 0 '>dialect</span> <span class='sent-word' style='background-color:rgb(255,255,255);' title='score: 0 '>of</span> <span class='sent-word' style='background-color:rgb(255,255,255);' title='score: 0 '>English</span> <span class='sent-word' style='background-color:rgb(255,255,255);' title='score: 0 '>being</span> <span class='sent-word' style='background-color:rgb(255,255,255);' title='score: 0 '>dominant</span>. \n",
       "</div>"
      ],
      "text/plain": [
       "<IPython.core.display.HTML object>"
      ]
     },
     "metadata": {},
     "output_type": "display_data"
    },
    {
     "data": {
      "text/html": [
       "\n",
       "    <div>\n",
       "        \n",
       "    <div class='sent-compound' style='background:rgb(138,255,138);'>\n",
       "        <div class='sent-compound-title'>Compound</div>\n",
       "        <span>0.459</span>\n",
       "    </div>\n",
       "     \n",
       "        \n",
       "    <div class='sent-bars'>\n",
       "        <div class='sent-bars-title'>Proportions</div>\n",
       "        <div class='sent-bar sent-bar-pos' style='height:2px; left:8px;' title='neg proportion: 0.028'><span>pos</span></div>\n",
       "        <div class='sent-bar sent-bar-neu' style='height:76px; left:38px;' title='neg proportion: 0.957'><span>neu</span></div>\n",
       "        <div class='sent-bar sent-bar-neg' style='height:1px; left:68px;' title='neg proportion: 0.015'><span>neg</span></div>\n",
       "        <div class='sent-bar-line'></div>\n",
       "    </div>\n",
       "    \n",
       "    </div>\n",
       "    "
      ],
      "text/plain": [
       "<IPython.core.display.HTML object>"
      ]
     },
     "metadata": {},
     "output_type": "display_data"
    },
    {
     "data": {
      "text/html": [
       "\n",
       "    <style>\n",
       "    .sent-word {\n",
       "        color: #000;\n",
       "        padding: 2px;\n",
       "        border-radius: 3px;\n",
       "        font-size: 14px;\n",
       "        margin-left: 0px;\n",
       "        margin-bottom: 5px;\n",
       "        white-space: nowrap;\n",
       "        overflow-wrap: normal;\n",
       "        word-break: normal;\n",
       "        border: 1px solid #ccc;\n",
       "        display: inline-block;\n",
       "    }\n",
       "    .sent-bars {\n",
       "        margin-top:20px; margin-bottom:40px; background:#fff; border-radius:5px; width:100px; height:100px; display:inline-block; position:relative; vertical-align:top;border:1px solid #ccc;\n",
       "    }\n",
       "    .sent-bar {\n",
       "        position:absolute; bottom:15px; width:24px; border:1px solid #bbb; border-radius:4px 4px 0 0; text-align:center; color:#000; font-size:15px;\n",
       "    }\n",
       "    .sent-bar-line {\n",
       "        position:absolute; bottom:15px; left:5px; width:90px;margin:0 auto; height:1px; background:#999;\n",
       "    }\n",
       "    .sent-bar-pos { background:rgb(0,200,0);}\n",
       "    .sent-bar-neu { background:rgb(255,255,255);}\n",
       "    .sent-bar-neg { background:rgb(200,0,0);}\n",
       "    .sent-bar span:first-child {\n",
       "        position:absolute; bottom:-14px; left:0; width:100%; text-align:center; font-size:12px;\n",
       "    }\n",
       "    .sent-bars-title, .sent-compound-title {\n",
       "        position:absolute; width:100%; font-weight:bold; top:-15px; left:0; font-size:12px;\n",
       "    }\n",
       "    .sent-compound {\n",
       "        display:inline-block; vertical-align:top;border:1px solid #ccc;border-radius:5px;margin-top:20px; position:relative;\n",
       "        width:100px; height:100px; font-size:14px; font-weight:bold; margin-bottom:40px;\n",
       "    }\n",
       "    .sent-compound span {\n",
       "    color:#000; \n",
       "    display:inline-block;\n",
       "    line-height:100px;\n",
       "    width:100px;\n",
       "    text-align:center; \n",
       "    }\n",
       "\n",
       "    .text-wrapper {\n",
       "        font-size: 14px;width:100%;max-width:800px;overflow-wrap:anywhere;line-height:1.5;\n",
       "    }\n",
       "    span.ttppee {font-style:italic;}\n",
       "\n",
       "    span.icon {font-size:12px;}\n",
       "    </style>\n",
       "    <div class='text-wrapper'>\n",
       "<span class='sent-word' style='background-color:rgb(255,255,255);' title='score: 0 '>Your</span> <span class='sent-word' style='background-color:rgb(255,255,255);' title='score: 0 '>example</span> <span class='sent-word' style='background-color:rgb(255,255,255);' title='score: 0 '>here</span>.\n",
       "</div>"
      ],
      "text/plain": [
       "<IPython.core.display.HTML object>"
      ]
     },
     "metadata": {},
     "output_type": "display_data"
    },
    {
     "data": {
      "text/html": [
       "\n",
       "    <div>\n",
       "        \n",
       "    <div class='sent-compound' style='background:rgb(255,255,255);'>\n",
       "        <div class='sent-compound-title'>Compound</div>\n",
       "        <span>0.000</span>\n",
       "    </div>\n",
       "     \n",
       "        \n",
       "    <div class='sent-bars'>\n",
       "        <div class='sent-bars-title'>Proportions</div>\n",
       "        <div class='sent-bar sent-bar-pos' style='height:0px; left:8px;' title='neg proportion: 0.000'><span>pos</span></div>\n",
       "        <div class='sent-bar sent-bar-neu' style='height:80px; left:38px;' title='neg proportion: 1.000'><span>neu</span></div>\n",
       "        <div class='sent-bar sent-bar-neg' style='height:0px; left:68px;' title='neg proportion: 0.000'><span>neg</span></div>\n",
       "        <div class='sent-bar-line'></div>\n",
       "    </div>\n",
       "    \n",
       "    </div>\n",
       "    "
      ],
      "text/plain": [
       "<IPython.core.display.HTML object>"
      ]
     },
     "metadata": {},
     "output_type": "display_data"
    }
   ],
   "source": [
    "# this is some text from New Zealand's Wikipedia page\n",
    "our_example = '''\n",
    "The islands of New Zealand were the last large habitable land to be settled by humans. Between about 1280 and 1350, Polynesians began to settle in the islands and subsequently developed a distinctive Māori culture. In 1642, the Dutch explorer Abel Tasman became the first European to sight and record New Zealand. In 1769 the British explorer Captain James Cook became the first European to set foot on and map New Zealand. In 1840, representatives of the United Kingdom and Māori chiefs signed the Treaty of Waitangi which paved the way for Britain's declaration of sovereignty later that year and the establishment of the Crown Colony of New Zealand in 1841. Subsequently, a series of conflicts between the colonial government and Māori tribes resulted in the alienation and confiscation of large amounts of Māori land. New Zealand became a dominion in 1907; it gained full statutory independence in 1947, retaining the monarch as head of state. Today, the majority of New Zealand's population of around 5.3 million is of European descent; the indigenous Māori are the largest minority, followed by Asians and Pasifika. Reflecting this, New Zealand's culture is mainly derived from Māori and early British settlers but has recently broadened from increased immigration. The official languages are English, Māori, and New Zealand Sign Language, with the local dialect of English being dominant. \n",
    "'''\n",
    "\n",
    "your_example = '''\n",
    "Your example here.\n",
    "'''\n",
    "\n",
    "interpreter.explain(our_example)\n",
    "interpreter.explain(your_example)"
   ]
  },
  {
   "cell_type": "markdown",
   "metadata": {},
   "source": [
    "## Wrapping up\n",
    "\n",
    "One thing to take away from working through this notebook is that measuring sentiment can be challenging. Do yourself a favour and look at the texts you want to apply sentiment analysis to and examine how they express sentiment and identify likely challenges before you start measuring and summarising sentiment across the texts. \n",
    "\n",
    "Here are some questions to consider in wrapping up this notebook: \n",
    "\n",
    "* How does VADER perform on different kinds of texts?  \n",
    "* What kinds of texts are challenging for a lexicon-based approach to sentiment analysis?  \n",
    "* What kinds of texts are not appropriate for sentiment analysis?  \n",
    "* If you apply sentiment analysis to texts that are not appropriate for sentiment analysis, what are you measuring?\n",
    "\n"
   ]
  },
  {
   "cell_type": "markdown",
   "metadata": {},
   "source": []
  }
 ],
 "metadata": {
  "kernelspec": {
   "display_name": "textplumber",
   "language": "python",
   "name": "python3"
  },
  "language_info": {
   "codemirror_mode": {
    "name": "ipython",
    "version": 3
   },
   "file_extension": ".py",
   "mimetype": "text/x-python",
   "name": "python",
   "nbconvert_exporter": "python",
   "pygments_lexer": "ipython3",
   "version": "3.11.13"
  }
 },
 "nbformat": 4,
 "nbformat_minor": 4
}
